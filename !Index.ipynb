{
 "cells": [
  {
   "cell_type": "markdown",
   "metadata": {},
   "source": [
    "# Prezantim me Shkencën e të Dhënave\n",
    "\n",
    "Ky është një _prezantim në shkencën e të dhënave_. Në dhjetë leksione ne përmbledhim dhe demonstrojmë një seri aftësish themelore që të gjithë kanë nevojë për të vizualizuar të dhënat dhe për të kryer disa analiza themelore të të dhënave. Ideja e këtij manuali është të tregojë se si, me pak programim _Python_, nga një e dhënë e përfaqësuar në mënyrë të përshtatshme mund të merrni një informacion - cilësi të re. Ky manual është shkruar në _Jupyter_, i cili është një mjedis interaktiv ideal për të eksperimentuar me copa të kodit Python.\n",
    "\n",
    "Megjithëse gjuha jonë programuese është Python, ky manual nuk është menduar për të mësuar programimin Python. Qëllimi i këtij manuali është të demonstrojë aftësi themelore të nevojshme për vizualizimin e të dhënave dhe analizën e të dhënave, ndërsa gjuha programuese është vetëm një mjet që bën të mundur për ne që të formulojmë idetë saktësisht dhe t'i zbatojmë ato në shembuj konkret. Python është një gjuhë moderne e programimit që vazhdimisht azhornohet dhe mirëmbahet rregullisht, dhe e cila është e lirë për t'u përdorur. Kjo e bën atë një zgjedhje të përshtatshme.\n",
    "\n",
    "* [0. Ekzekutimi i Jupyter notebook](eJ00.html)\n",
    "* [1. Prezantim me Jupyter](eJ01.html)\n",
    "* [2. Sekuencat e të dhënave dhe grafikët e vijëzuar ](eJ02.html)\n",
    "* [3. Grafikët dhe ngjyrat](eJ03.html)\n",
    "* [4. Mesatare dhe median e një sekuence numrash](eJ04.html)\n",
    "* [5. Analiza e frekuencave dhe grafikët](eJ05.html)\n",
    "* [6. Prezantimi i të dhënave si tabela](eJ06.html)\n",
    "* [7. Indeskimi dhe traspozimi i tabelës](eJ07.html)\n",
    "* [8. Modifikimi i tabelës dhe shkrimi në file](eJ08.html)\n",
    "* [9. Renditja, filtrimi dhe indeksimi](eJ09.html)\n",
    "* [10. Jupyter dhe Excel](eJ10.html)"
   ]
  }
 ],
 "metadata": {
  "kernelspec": {
   "display_name": "Python 3",
   "language": "python",
   "name": "python3"
  },
  "language_info": {
   "codemirror_mode": {
    "name": "ipython",
    "version": 3
   },
   "file_extension": ".py",
   "mimetype": "text/x-python",
   "name": "python",
   "nbconvert_exporter": "python",
   "pygments_lexer": "ipython3",
   "version": "3.7.6"
  }
 },
 "nbformat": 4,
 "nbformat_minor": 2
}