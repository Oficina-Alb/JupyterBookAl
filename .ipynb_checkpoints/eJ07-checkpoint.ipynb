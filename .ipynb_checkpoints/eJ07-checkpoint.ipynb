{
 "cells": [
  {
   "cell_type": "markdown",
   "metadata": {},
   "source": [
    "# 7. Indeksimi dhe transpozimi i një tabele\n",
    "\n",
    "Në këtë leksion ne demonstrojmë:\n",
    "1. si indeksimi i një tabele siguron një qasje fleksibël në elementet e tabelës;\n",
    "2. si të llogariten nëpër rreshta dhe kolona të tabelës; dhe\n",
    "4. si të zhvendoset një tabelë."
   ]
  },
  {
   "cell_type": "markdown",
   "metadata": {},
   "source": [
    "## 7.1. Indeksimi"
   ]
  },
  {
   "cell_type": "markdown",
   "metadata": {},
   "source": [
    "Ne kemi parë që të punosh me kolonat e një DataFrame është shumë e lehtë sepse kolonat kanë emra. Do të ishte aq e thjeshtë për të punuar me rreshtat e një DataFrame nëse do të kishim një mënyrë për t'i emëruar rreshtat në një farë mënyre. Procesi që bën saktësisht që quhet _indeksimi i një tabele_.\n",
    "\n",
    "Për të indeksuar një tabelë, së pari duhet të identifikojmë një kolonë (_kolonën e indeksimit_ ose _indeksin_) në mënyrë që çdo rresht në  _përcaktohet në mënyrë unike_ sipas vlerës në kolonën e indeksimit. Për shembull, në tabelën vijuese\n",
    "\n",
    "| __Name__ | __Sex__ | __Age (yrs)__ | __Weight (kg)__ | __Height (cm)__ |\n",
    "|---|---|---|---|---|\n",
    "|     Anne | f | 13 | 46 | 160 |\n",
    "|      Ben | m | 14 | 52 | 165 |\n",
    "|    Colin | m | 13 | 47 | 157 |\n",
    "|    Diana | f | 15 | 54 | 165 |\n",
    "|    Ethan | m | 15 | 56 | 163 |\n",
    "|     Fred | m | 13 | 45 | 159 |\n",
    "|   Gloria | f | 14 | 49 | 161 |\n",
    "|   Hellen | f | 15 | 52 | 164 |\n",
    "|      Ian | m | 15 | 57 | 167 |\n",
    "|     Jane | f | 13 | 45 | 158 |\n",
    "|     Kate | f | 14 | 51 | 162 |\n",
    "\n",
    "\"Name\" është një kandidat i mirë për kolonën e indeksimit sepse në këtë tabelë studenti i gjërë ka një emër unik (vini re se në jetën reale kjo nuk është rastësisht). \"Height\" nuk është një zgjedhje e mirë sepse janë dy studentë, lartësia e të cilëve është 165; dhe e njëjta vlen edhe për kolonat e tjera.\n",
    "\n",
    "Funksioni `set_index` vendos kolonën e indeksit të tabelës:"
   ]
  },
  {
   "cell_type": "code",
   "execution_count": 1,
   "metadata": {},
   "outputs": [],
   "source": [
    "import pandas as pd\n",
    "students = [[\"Anne\",    \"f\", 13, 46, 160],\n",
    "            [\"Ben\",     \"m\", 14, 52, 165],\n",
    "            [\"Colin\",   \"m\", 13, 47, 157],\n",
    "            [\"Diana\",   \"f\", 15, 54, 165],\n",
    "            [\"Ethan\",   \"m\", 15, 56, 163],\n",
    "            [\"Fred\",    \"m\", 13, 45, 159],\n",
    "            [\"Gloria\",  \"f\", 14, 49, 161],\n",
    "            [\"Hellen\",  \"f\", 15, 52, 164],\n",
    "            [\"Ian\",     \"m\", 15, 57, 167],\n",
    "            [\"Jane\",    \"f\", 13, 45, 158],\n",
    "            [\"Kate\",    \"f\", 14, 51, 162]]\n",
    "students_df = pd.DataFrame(students)\n",
    "students_df.columns=[\"Name\", \"Sex\", \"Age\", \"Weight\", \"Height\"]\n",
    "\n",
    "students_ix=students_df.set_index(\"Name\")"
   ]
  },
  {
   "cell_type": "markdown",
   "metadata": {},
   "source": [
    "Tabela e re (`students_ix`) ndryshon nga ajo e vjetra (` students_df`) vetëm në faktin se rreshtat e tabelës tani janë _indeksuar_ nga emrat e studentëve. Këtu është versioni i paindeksuar i tabelës:"
   ]
  },
  {
   "cell_type": "code",
   "execution_count": 2,
   "metadata": {},
   "outputs": [
    {
     "data": {
      "text/html": [
       "<div>\n",
       "<style scoped>\n",
       "    .dataframe tbody tr th:only-of-type {\n",
       "        vertical-align: middle;\n",
       "    }\n",
       "\n",
       "    .dataframe tbody tr th {\n",
       "        vertical-align: top;\n",
       "    }\n",
       "\n",
       "    .dataframe thead th {\n",
       "        text-align: right;\n",
       "    }\n",
       "</style>\n",
       "<table border=\"1\" class=\"dataframe\">\n",
       "  <thead>\n",
       "    <tr style=\"text-align: right;\">\n",
       "      <th></th>\n",
       "      <th>Name</th>\n",
       "      <th>Sex</th>\n",
       "      <th>Age</th>\n",
       "      <th>Weight</th>\n",
       "      <th>Height</th>\n",
       "    </tr>\n",
       "  </thead>\n",
       "  <tbody>\n",
       "    <tr>\n",
       "      <th>0</th>\n",
       "      <td>Anne</td>\n",
       "      <td>f</td>\n",
       "      <td>13</td>\n",
       "      <td>46</td>\n",
       "      <td>160</td>\n",
       "    </tr>\n",
       "    <tr>\n",
       "      <th>1</th>\n",
       "      <td>Ben</td>\n",
       "      <td>m</td>\n",
       "      <td>14</td>\n",
       "      <td>52</td>\n",
       "      <td>165</td>\n",
       "    </tr>\n",
       "    <tr>\n",
       "      <th>2</th>\n",
       "      <td>Colin</td>\n",
       "      <td>m</td>\n",
       "      <td>13</td>\n",
       "      <td>47</td>\n",
       "      <td>157</td>\n",
       "    </tr>\n",
       "    <tr>\n",
       "      <th>3</th>\n",
       "      <td>Diana</td>\n",
       "      <td>f</td>\n",
       "      <td>15</td>\n",
       "      <td>54</td>\n",
       "      <td>165</td>\n",
       "    </tr>\n",
       "    <tr>\n",
       "      <th>4</th>\n",
       "      <td>Ethan</td>\n",
       "      <td>m</td>\n",
       "      <td>15</td>\n",
       "      <td>56</td>\n",
       "      <td>163</td>\n",
       "    </tr>\n",
       "    <tr>\n",
       "      <th>5</th>\n",
       "      <td>Fred</td>\n",
       "      <td>m</td>\n",
       "      <td>13</td>\n",
       "      <td>45</td>\n",
       "      <td>159</td>\n",
       "    </tr>\n",
       "    <tr>\n",
       "      <th>6</th>\n",
       "      <td>Gloria</td>\n",
       "      <td>f</td>\n",
       "      <td>14</td>\n",
       "      <td>49</td>\n",
       "      <td>161</td>\n",
       "    </tr>\n",
       "    <tr>\n",
       "      <th>7</th>\n",
       "      <td>Hellen</td>\n",
       "      <td>f</td>\n",
       "      <td>15</td>\n",
       "      <td>52</td>\n",
       "      <td>164</td>\n",
       "    </tr>\n",
       "    <tr>\n",
       "      <th>8</th>\n",
       "      <td>Ian</td>\n",
       "      <td>m</td>\n",
       "      <td>15</td>\n",
       "      <td>57</td>\n",
       "      <td>167</td>\n",
       "    </tr>\n",
       "    <tr>\n",
       "      <th>9</th>\n",
       "      <td>Jane</td>\n",
       "      <td>f</td>\n",
       "      <td>13</td>\n",
       "      <td>45</td>\n",
       "      <td>158</td>\n",
       "    </tr>\n",
       "    <tr>\n",
       "      <th>10</th>\n",
       "      <td>Kate</td>\n",
       "      <td>f</td>\n",
       "      <td>14</td>\n",
       "      <td>51</td>\n",
       "      <td>162</td>\n",
       "    </tr>\n",
       "  </tbody>\n",
       "</table>\n",
       "</div>"
      ],
      "text/plain": [
       "      Name Sex  Age  Weight  Height\n",
       "0     Anne   f   13      46     160\n",
       "1      Ben   m   14      52     165\n",
       "2    Colin   m   13      47     157\n",
       "3    Diana   f   15      54     165\n",
       "4    Ethan   m   15      56     163\n",
       "5     Fred   m   13      45     159\n",
       "6   Gloria   f   14      49     161\n",
       "7   Hellen   f   15      52     164\n",
       "8      Ian   m   15      57     167\n",
       "9     Jane   f   13      45     158\n",
       "10    Kate   f   14      51     162"
      ]
     },
     "execution_count": 2,
     "metadata": {},
     "output_type": "execute_result"
    }
   ],
   "source": [
    "students_df"
   ]
  },
  {
   "cell_type": "markdown",
   "metadata": {},
   "source": [
    "dhe këtu është versioni i indeksuar i së njëjtës tabelë:"
   ]
  },
  {
   "cell_type": "code",
   "execution_count": 3,
   "metadata": {},
   "outputs": [
    {
     "data": {
      "text/html": [
       "<div>\n",
       "<style scoped>\n",
       "    .dataframe tbody tr th:only-of-type {\n",
       "        vertical-align: middle;\n",
       "    }\n",
       "\n",
       "    .dataframe tbody tr th {\n",
       "        vertical-align: top;\n",
       "    }\n",
       "\n",
       "    .dataframe thead th {\n",
       "        text-align: right;\n",
       "    }\n",
       "</style>\n",
       "<table border=\"1\" class=\"dataframe\">\n",
       "  <thead>\n",
       "    <tr style=\"text-align: right;\">\n",
       "      <th></th>\n",
       "      <th>Sex</th>\n",
       "      <th>Age</th>\n",
       "      <th>Weight</th>\n",
       "      <th>Height</th>\n",
       "    </tr>\n",
       "    <tr>\n",
       "      <th>Name</th>\n",
       "      <th></th>\n",
       "      <th></th>\n",
       "      <th></th>\n",
       "      <th></th>\n",
       "    </tr>\n",
       "  </thead>\n",
       "  <tbody>\n",
       "    <tr>\n",
       "      <th>Anne</th>\n",
       "      <td>f</td>\n",
       "      <td>13</td>\n",
       "      <td>46</td>\n",
       "      <td>160</td>\n",
       "    </tr>\n",
       "    <tr>\n",
       "      <th>Ben</th>\n",
       "      <td>m</td>\n",
       "      <td>14</td>\n",
       "      <td>52</td>\n",
       "      <td>165</td>\n",
       "    </tr>\n",
       "    <tr>\n",
       "      <th>Colin</th>\n",
       "      <td>m</td>\n",
       "      <td>13</td>\n",
       "      <td>47</td>\n",
       "      <td>157</td>\n",
       "    </tr>\n",
       "    <tr>\n",
       "      <th>Diana</th>\n",
       "      <td>f</td>\n",
       "      <td>15</td>\n",
       "      <td>54</td>\n",
       "      <td>165</td>\n",
       "    </tr>\n",
       "    <tr>\n",
       "      <th>Ethan</th>\n",
       "      <td>m</td>\n",
       "      <td>15</td>\n",
       "      <td>56</td>\n",
       "      <td>163</td>\n",
       "    </tr>\n",
       "    <tr>\n",
       "      <th>Fred</th>\n",
       "      <td>m</td>\n",
       "      <td>13</td>\n",
       "      <td>45</td>\n",
       "      <td>159</td>\n",
       "    </tr>\n",
       "    <tr>\n",
       "      <th>Gloria</th>\n",
       "      <td>f</td>\n",
       "      <td>14</td>\n",
       "      <td>49</td>\n",
       "      <td>161</td>\n",
       "    </tr>\n",
       "    <tr>\n",
       "      <th>Hellen</th>\n",
       "      <td>f</td>\n",
       "      <td>15</td>\n",
       "      <td>52</td>\n",
       "      <td>164</td>\n",
       "    </tr>\n",
       "    <tr>\n",
       "      <th>Ian</th>\n",
       "      <td>m</td>\n",
       "      <td>15</td>\n",
       "      <td>57</td>\n",
       "      <td>167</td>\n",
       "    </tr>\n",
       "    <tr>\n",
       "      <th>Jane</th>\n",
       "      <td>f</td>\n",
       "      <td>13</td>\n",
       "      <td>45</td>\n",
       "      <td>158</td>\n",
       "    </tr>\n",
       "    <tr>\n",
       "      <th>Kate</th>\n",
       "      <td>f</td>\n",
       "      <td>14</td>\n",
       "      <td>51</td>\n",
       "      <td>162</td>\n",
       "    </tr>\n",
       "  </tbody>\n",
       "</table>\n",
       "</div>"
      ],
      "text/plain": [
       "       Sex  Age  Weight  Height\n",
       "Name                           \n",
       "Anne     f   13      46     160\n",
       "Ben      m   14      52     165\n",
       "Colin    m   13      47     157\n",
       "Diana    f   15      54     165\n",
       "Ethan    m   15      56     163\n",
       "Fred     m   13      45     159\n",
       "Gloria   f   14      49     161\n",
       "Hellen   f   15      52     164\n",
       "Ian      m   15      57     167\n",
       "Jane     f   13      45     158\n",
       "Kate     f   14      51     162"
      ]
     },
     "execution_count": 3,
     "metadata": {},
     "output_type": "execute_result"
    }
   ],
   "source": [
    "students_ix"
   ]
  },
  {
   "cell_type": "markdown",
   "metadata": {},
   "source": [
    "Kolona \"Name\" është ende e pranishme, por tani ajo ka një statis të veçantë. Nëse përpiqemi t'i qasemi asaj siç kemi bërë përpara se të kemi një gabim (raporti i gabimit është mjaft i gjatë; mos u shqetësoni ta lexoni me kujdes, thjesht lëvizni poshtë):"
   ]
  },
  {
   "cell_type": "code",
   "execution_count": 4,
   "metadata": {},
   "outputs": [
    {
     "ename": "KeyError",
     "evalue": "'Name'",
     "output_type": "error",
     "traceback": [
      "\u001b[1;31m---------------------------------------------------------------------------\u001b[0m",
      "\u001b[1;31mKeyError\u001b[0m                                  Traceback (most recent call last)",
      "\u001b[1;32mC:\\ProgramData\\Anaconda3\\lib\\site-packages\\pandas\\core\\indexes\\base.py\u001b[0m in \u001b[0;36mget_loc\u001b[1;34m(self, key, method, tolerance)\u001b[0m\n\u001b[0;32m   3077\u001b[0m             \u001b[1;32mtry\u001b[0m\u001b[1;33m:\u001b[0m\u001b[1;33m\u001b[0m\u001b[1;33m\u001b[0m\u001b[0m\n\u001b[1;32m-> 3078\u001b[1;33m                 \u001b[1;32mreturn\u001b[0m \u001b[0mself\u001b[0m\u001b[1;33m.\u001b[0m\u001b[0m_engine\u001b[0m\u001b[1;33m.\u001b[0m\u001b[0mget_loc\u001b[0m\u001b[1;33m(\u001b[0m\u001b[0mkey\u001b[0m\u001b[1;33m)\u001b[0m\u001b[1;33m\u001b[0m\u001b[1;33m\u001b[0m\u001b[0m\n\u001b[0m\u001b[0;32m   3079\u001b[0m             \u001b[1;32mexcept\u001b[0m \u001b[0mKeyError\u001b[0m\u001b[1;33m:\u001b[0m\u001b[1;33m\u001b[0m\u001b[1;33m\u001b[0m\u001b[0m\n",
      "\u001b[1;32mpandas\\_libs\\index.pyx\u001b[0m in \u001b[0;36mpandas._libs.index.IndexEngine.get_loc\u001b[1;34m()\u001b[0m\n",
      "\u001b[1;32mpandas\\_libs\\index.pyx\u001b[0m in \u001b[0;36mpandas._libs.index.IndexEngine.get_loc\u001b[1;34m()\u001b[0m\n",
      "\u001b[1;32mpandas\\_libs\\hashtable_class_helper.pxi\u001b[0m in \u001b[0;36mpandas._libs.hashtable.PyObjectHashTable.get_item\u001b[1;34m()\u001b[0m\n",
      "\u001b[1;32mpandas\\_libs\\hashtable_class_helper.pxi\u001b[0m in \u001b[0;36mpandas._libs.hashtable.PyObjectHashTable.get_item\u001b[1;34m()\u001b[0m\n",
      "\u001b[1;31mKeyError\u001b[0m: 'Name'",
      "\nDuring handling of the above exception, another exception occurred:\n",
      "\u001b[1;31mKeyError\u001b[0m                                  Traceback (most recent call last)",
      "\u001b[1;32m<ipython-input-4-475864f81b1d>\u001b[0m in \u001b[0;36m<module>\u001b[1;34m\u001b[0m\n\u001b[1;32m----> 1\u001b[1;33m \u001b[0mstudents_ix\u001b[0m\u001b[1;33m[\u001b[0m\u001b[1;34m\"Name\"\u001b[0m\u001b[1;33m]\u001b[0m\u001b[1;33m\u001b[0m\u001b[1;33m\u001b[0m\u001b[0m\n\u001b[0m",
      "\u001b[1;32mC:\\ProgramData\\Anaconda3\\lib\\site-packages\\pandas\\core\\frame.py\u001b[0m in \u001b[0;36m__getitem__\u001b[1;34m(self, key)\u001b[0m\n\u001b[0;32m   2686\u001b[0m             \u001b[1;32mreturn\u001b[0m \u001b[0mself\u001b[0m\u001b[1;33m.\u001b[0m\u001b[0m_getitem_multilevel\u001b[0m\u001b[1;33m(\u001b[0m\u001b[0mkey\u001b[0m\u001b[1;33m)\u001b[0m\u001b[1;33m\u001b[0m\u001b[1;33m\u001b[0m\u001b[0m\n\u001b[0;32m   2687\u001b[0m         \u001b[1;32melse\u001b[0m\u001b[1;33m:\u001b[0m\u001b[1;33m\u001b[0m\u001b[1;33m\u001b[0m\u001b[0m\n\u001b[1;32m-> 2688\u001b[1;33m             \u001b[1;32mreturn\u001b[0m \u001b[0mself\u001b[0m\u001b[1;33m.\u001b[0m\u001b[0m_getitem_column\u001b[0m\u001b[1;33m(\u001b[0m\u001b[0mkey\u001b[0m\u001b[1;33m)\u001b[0m\u001b[1;33m\u001b[0m\u001b[1;33m\u001b[0m\u001b[0m\n\u001b[0m\u001b[0;32m   2689\u001b[0m \u001b[1;33m\u001b[0m\u001b[0m\n\u001b[0;32m   2690\u001b[0m     \u001b[1;32mdef\u001b[0m \u001b[0m_getitem_column\u001b[0m\u001b[1;33m(\u001b[0m\u001b[0mself\u001b[0m\u001b[1;33m,\u001b[0m \u001b[0mkey\u001b[0m\u001b[1;33m)\u001b[0m\u001b[1;33m:\u001b[0m\u001b[1;33m\u001b[0m\u001b[1;33m\u001b[0m\u001b[0m\n",
      "\u001b[1;32mC:\\ProgramData\\Anaconda3\\lib\\site-packages\\pandas\\core\\frame.py\u001b[0m in \u001b[0;36m_getitem_column\u001b[1;34m(self, key)\u001b[0m\n\u001b[0;32m   2693\u001b[0m         \u001b[1;31m# get column\u001b[0m\u001b[1;33m\u001b[0m\u001b[1;33m\u001b[0m\u001b[1;33m\u001b[0m\u001b[0m\n\u001b[0;32m   2694\u001b[0m         \u001b[1;32mif\u001b[0m \u001b[0mself\u001b[0m\u001b[1;33m.\u001b[0m\u001b[0mcolumns\u001b[0m\u001b[1;33m.\u001b[0m\u001b[0mis_unique\u001b[0m\u001b[1;33m:\u001b[0m\u001b[1;33m\u001b[0m\u001b[1;33m\u001b[0m\u001b[0m\n\u001b[1;32m-> 2695\u001b[1;33m             \u001b[1;32mreturn\u001b[0m \u001b[0mself\u001b[0m\u001b[1;33m.\u001b[0m\u001b[0m_get_item_cache\u001b[0m\u001b[1;33m(\u001b[0m\u001b[0mkey\u001b[0m\u001b[1;33m)\u001b[0m\u001b[1;33m\u001b[0m\u001b[1;33m\u001b[0m\u001b[0m\n\u001b[0m\u001b[0;32m   2696\u001b[0m \u001b[1;33m\u001b[0m\u001b[0m\n\u001b[0;32m   2697\u001b[0m         \u001b[1;31m# duplicate columns & possible reduce dimensionality\u001b[0m\u001b[1;33m\u001b[0m\u001b[1;33m\u001b[0m\u001b[1;33m\u001b[0m\u001b[0m\n",
      "\u001b[1;32mC:\\ProgramData\\Anaconda3\\lib\\site-packages\\pandas\\core\\generic.py\u001b[0m in \u001b[0;36m_get_item_cache\u001b[1;34m(self, item)\u001b[0m\n\u001b[0;32m   2487\u001b[0m         \u001b[0mres\u001b[0m \u001b[1;33m=\u001b[0m \u001b[0mcache\u001b[0m\u001b[1;33m.\u001b[0m\u001b[0mget\u001b[0m\u001b[1;33m(\u001b[0m\u001b[0mitem\u001b[0m\u001b[1;33m)\u001b[0m\u001b[1;33m\u001b[0m\u001b[1;33m\u001b[0m\u001b[0m\n\u001b[0;32m   2488\u001b[0m         \u001b[1;32mif\u001b[0m \u001b[0mres\u001b[0m \u001b[1;32mis\u001b[0m \u001b[1;32mNone\u001b[0m\u001b[1;33m:\u001b[0m\u001b[1;33m\u001b[0m\u001b[1;33m\u001b[0m\u001b[0m\n\u001b[1;32m-> 2489\u001b[1;33m             \u001b[0mvalues\u001b[0m \u001b[1;33m=\u001b[0m \u001b[0mself\u001b[0m\u001b[1;33m.\u001b[0m\u001b[0m_data\u001b[0m\u001b[1;33m.\u001b[0m\u001b[0mget\u001b[0m\u001b[1;33m(\u001b[0m\u001b[0mitem\u001b[0m\u001b[1;33m)\u001b[0m\u001b[1;33m\u001b[0m\u001b[1;33m\u001b[0m\u001b[0m\n\u001b[0m\u001b[0;32m   2490\u001b[0m             \u001b[0mres\u001b[0m \u001b[1;33m=\u001b[0m \u001b[0mself\u001b[0m\u001b[1;33m.\u001b[0m\u001b[0m_box_item_values\u001b[0m\u001b[1;33m(\u001b[0m\u001b[0mitem\u001b[0m\u001b[1;33m,\u001b[0m \u001b[0mvalues\u001b[0m\u001b[1;33m)\u001b[0m\u001b[1;33m\u001b[0m\u001b[1;33m\u001b[0m\u001b[0m\n\u001b[0;32m   2491\u001b[0m             \u001b[0mcache\u001b[0m\u001b[1;33m[\u001b[0m\u001b[0mitem\u001b[0m\u001b[1;33m]\u001b[0m \u001b[1;33m=\u001b[0m \u001b[0mres\u001b[0m\u001b[1;33m\u001b[0m\u001b[1;33m\u001b[0m\u001b[0m\n",
      "\u001b[1;32mC:\\ProgramData\\Anaconda3\\lib\\site-packages\\pandas\\core\\internals.py\u001b[0m in \u001b[0;36mget\u001b[1;34m(self, item, fastpath)\u001b[0m\n\u001b[0;32m   4113\u001b[0m \u001b[1;33m\u001b[0m\u001b[0m\n\u001b[0;32m   4114\u001b[0m             \u001b[1;32mif\u001b[0m \u001b[1;32mnot\u001b[0m \u001b[0misna\u001b[0m\u001b[1;33m(\u001b[0m\u001b[0mitem\u001b[0m\u001b[1;33m)\u001b[0m\u001b[1;33m:\u001b[0m\u001b[1;33m\u001b[0m\u001b[1;33m\u001b[0m\u001b[0m\n\u001b[1;32m-> 4115\u001b[1;33m                 \u001b[0mloc\u001b[0m \u001b[1;33m=\u001b[0m \u001b[0mself\u001b[0m\u001b[1;33m.\u001b[0m\u001b[0mitems\u001b[0m\u001b[1;33m.\u001b[0m\u001b[0mget_loc\u001b[0m\u001b[1;33m(\u001b[0m\u001b[0mitem\u001b[0m\u001b[1;33m)\u001b[0m\u001b[1;33m\u001b[0m\u001b[1;33m\u001b[0m\u001b[0m\n\u001b[0m\u001b[0;32m   4116\u001b[0m             \u001b[1;32melse\u001b[0m\u001b[1;33m:\u001b[0m\u001b[1;33m\u001b[0m\u001b[1;33m\u001b[0m\u001b[0m\n\u001b[0;32m   4117\u001b[0m                 \u001b[0mindexer\u001b[0m \u001b[1;33m=\u001b[0m \u001b[0mnp\u001b[0m\u001b[1;33m.\u001b[0m\u001b[0marange\u001b[0m\u001b[1;33m(\u001b[0m\u001b[0mlen\u001b[0m\u001b[1;33m(\u001b[0m\u001b[0mself\u001b[0m\u001b[1;33m.\u001b[0m\u001b[0mitems\u001b[0m\u001b[1;33m)\u001b[0m\u001b[1;33m)\u001b[0m\u001b[1;33m[\u001b[0m\u001b[0misna\u001b[0m\u001b[1;33m(\u001b[0m\u001b[0mself\u001b[0m\u001b[1;33m.\u001b[0m\u001b[0mitems\u001b[0m\u001b[1;33m)\u001b[0m\u001b[1;33m]\u001b[0m\u001b[1;33m\u001b[0m\u001b[1;33m\u001b[0m\u001b[0m\n",
      "\u001b[1;32mC:\\ProgramData\\Anaconda3\\lib\\site-packages\\pandas\\core\\indexes\\base.py\u001b[0m in \u001b[0;36mget_loc\u001b[1;34m(self, key, method, tolerance)\u001b[0m\n\u001b[0;32m   3078\u001b[0m                 \u001b[1;32mreturn\u001b[0m \u001b[0mself\u001b[0m\u001b[1;33m.\u001b[0m\u001b[0m_engine\u001b[0m\u001b[1;33m.\u001b[0m\u001b[0mget_loc\u001b[0m\u001b[1;33m(\u001b[0m\u001b[0mkey\u001b[0m\u001b[1;33m)\u001b[0m\u001b[1;33m\u001b[0m\u001b[1;33m\u001b[0m\u001b[0m\n\u001b[0;32m   3079\u001b[0m             \u001b[1;32mexcept\u001b[0m \u001b[0mKeyError\u001b[0m\u001b[1;33m:\u001b[0m\u001b[1;33m\u001b[0m\u001b[1;33m\u001b[0m\u001b[0m\n\u001b[1;32m-> 3080\u001b[1;33m                 \u001b[1;32mreturn\u001b[0m \u001b[0mself\u001b[0m\u001b[1;33m.\u001b[0m\u001b[0m_engine\u001b[0m\u001b[1;33m.\u001b[0m\u001b[0mget_loc\u001b[0m\u001b[1;33m(\u001b[0m\u001b[0mself\u001b[0m\u001b[1;33m.\u001b[0m\u001b[0m_maybe_cast_indexer\u001b[0m\u001b[1;33m(\u001b[0m\u001b[0mkey\u001b[0m\u001b[1;33m)\u001b[0m\u001b[1;33m)\u001b[0m\u001b[1;33m\u001b[0m\u001b[1;33m\u001b[0m\u001b[0m\n\u001b[0m\u001b[0;32m   3081\u001b[0m \u001b[1;33m\u001b[0m\u001b[0m\n\u001b[0;32m   3082\u001b[0m         \u001b[0mindexer\u001b[0m \u001b[1;33m=\u001b[0m \u001b[0mself\u001b[0m\u001b[1;33m.\u001b[0m\u001b[0mget_indexer\u001b[0m\u001b[1;33m(\u001b[0m\u001b[1;33m[\u001b[0m\u001b[0mkey\u001b[0m\u001b[1;33m]\u001b[0m\u001b[1;33m,\u001b[0m \u001b[0mmethod\u001b[0m\u001b[1;33m=\u001b[0m\u001b[0mmethod\u001b[0m\u001b[1;33m,\u001b[0m \u001b[0mtolerance\u001b[0m\u001b[1;33m=\u001b[0m\u001b[0mtolerance\u001b[0m\u001b[1;33m)\u001b[0m\u001b[1;33m\u001b[0m\u001b[1;33m\u001b[0m\u001b[0m\n",
      "\u001b[1;32mpandas\\_libs\\index.pyx\u001b[0m in \u001b[0;36mpandas._libs.index.IndexEngine.get_loc\u001b[1;34m()\u001b[0m\n",
      "\u001b[1;32mpandas\\_libs\\index.pyx\u001b[0m in \u001b[0;36mpandas._libs.index.IndexEngine.get_loc\u001b[1;34m()\u001b[0m\n",
      "\u001b[1;32mpandas\\_libs\\hashtable_class_helper.pxi\u001b[0m in \u001b[0;36mpandas._libs.hashtable.PyObjectHashTable.get_item\u001b[1;34m()\u001b[0m\n",
      "\u001b[1;32mpandas\\_libs\\hashtable_class_helper.pxi\u001b[0m in \u001b[0;36mpandas._libs.hashtable.PyObjectHashTable.get_item\u001b[1;34m()\u001b[0m\n",
      "\u001b[1;31mKeyError\u001b[0m: 'Name'"
     ]
    }
   ],
   "source": [
    "students_ix[\"Name\"]"
   ]
  },
  {
   "cell_type": "markdown",
   "metadata": {},
   "source": [
    "Gjithsesi, ka një  _kolonë të indeksuar_:"
   ]
  },
  {
   "cell_type": "code",
   "execution_count": 5,
   "metadata": {},
   "outputs": [
    {
     "data": {
      "text/plain": [
       "Index(['Anne', 'Ben', 'Colin', 'Diana', 'Ethan', 'Fred', 'Gloria', 'Hellen',\n",
       "       'Ian', 'Jane', 'Kate'],\n",
       "      dtype='object', name='Name')"
      ]
     },
     "execution_count": 5,
     "metadata": {},
     "output_type": "execute_result"
    }
   ],
   "source": [
    "students_ix.index"
   ]
  },
  {
   "cell_type": "markdown",
   "metadata": {},
   "source": [
    "Vizualisht, të themi, gjatësia e studentëve në grup tani llogaritet kështu:"
   ]
  },
  {
   "cell_type": "code",
   "execution_count": 6,
   "metadata": {},
   "outputs": [
    {
     "data": {
      "text/plain": [
       "<Figure size 1000x500 with 1 Axes>"
      ]
     },
     "metadata": {},
     "output_type": "display_data"
    }
   ],
   "source": [
    "import matplotlib.pyplot as plt\n",
    "plt.figure(figsize=(10,5))\n",
    "plt.bar(students_ix.index, students_ix[\"Height\"])\n",
    "plt.title(\"The height of students\")\n",
    "plt.show()\n",
    "plt.close()"
   ]
  },
  {
   "cell_type": "markdown",
   "metadata": {},
   "source": [
    "## 7.2. Qasja në rreshta dhe qeliza individuale të një tabele të indeksuar"
   ]
  },
  {
   "cell_type": "markdown",
   "metadata": {},
   "source": [
    "_DataFrame_ është optimizuar për të siguruar qasje efikase në kolonat e tabelës. Sidoqoftë, në një DataFrame të indeksuar është gjithashtu e lehtë për të hyrë në rreshta dhe qeliza të tabelës duke përdorur funksionin `loc` (shkurt  për \"vendndodhjen\").\n",
    "\n",
    "Ne mund të shfaqim një rresht të vetëm të tabelës si kjo:"
   ]
  },
  {
   "cell_type": "code",
   "execution_count": 7,
   "metadata": {},
   "outputs": [
    {
     "data": {
      "text/plain": [
       "Sex         m\n",
       "Age        15\n",
       "Weight     56\n",
       "Height    163\n",
       "Name: Ethan, dtype: object"
      ]
     },
     "execution_count": 7,
     "metadata": {},
     "output_type": "execute_result"
    }
   ],
   "source": [
    "students_ix.loc[\"Ethan\"]"
   ]
  },
  {
   "cell_type": "markdown",
   "metadata": {},
   "source": [
    "ose disa rreshta si:"
   ]
  },
  {
   "cell_type": "code",
   "execution_count": 8,
   "metadata": {
    "scrolled": true
   },
   "outputs": [
    {
     "data": {
      "text/html": [
       "<div>\n",
       "<style scoped>\n",
       "    .dataframe tbody tr th:only-of-type {\n",
       "        vertical-align: middle;\n",
       "    }\n",
       "\n",
       "    .dataframe tbody tr th {\n",
       "        vertical-align: top;\n",
       "    }\n",
       "\n",
       "    .dataframe thead th {\n",
       "        text-align: right;\n",
       "    }\n",
       "</style>\n",
       "<table border=\"1\" class=\"dataframe\">\n",
       "  <thead>\n",
       "    <tr style=\"text-align: right;\">\n",
       "      <th></th>\n",
       "      <th>Sex</th>\n",
       "      <th>Age</th>\n",
       "      <th>Weight</th>\n",
       "      <th>Height</th>\n",
       "    </tr>\n",
       "    <tr>\n",
       "      <th>Name</th>\n",
       "      <th></th>\n",
       "      <th></th>\n",
       "      <th></th>\n",
       "      <th></th>\n",
       "    </tr>\n",
       "  </thead>\n",
       "  <tbody>\n",
       "    <tr>\n",
       "      <th>Ethan</th>\n",
       "      <td>m</td>\n",
       "      <td>15</td>\n",
       "      <td>56</td>\n",
       "      <td>163</td>\n",
       "    </tr>\n",
       "    <tr>\n",
       "      <th>Fred</th>\n",
       "      <td>m</td>\n",
       "      <td>13</td>\n",
       "      <td>45</td>\n",
       "      <td>159</td>\n",
       "    </tr>\n",
       "    <tr>\n",
       "      <th>Gloria</th>\n",
       "      <td>f</td>\n",
       "      <td>14</td>\n",
       "      <td>49</td>\n",
       "      <td>161</td>\n",
       "    </tr>\n",
       "    <tr>\n",
       "      <th>Hellen</th>\n",
       "      <td>f</td>\n",
       "      <td>15</td>\n",
       "      <td>52</td>\n",
       "      <td>164</td>\n",
       "    </tr>\n",
       "    <tr>\n",
       "      <th>Ian</th>\n",
       "      <td>m</td>\n",
       "      <td>15</td>\n",
       "      <td>57</td>\n",
       "      <td>167</td>\n",
       "    </tr>\n",
       "  </tbody>\n",
       "</table>\n",
       "</div>"
      ],
      "text/plain": [
       "       Sex  Age  Weight  Height\n",
       "Name                           \n",
       "Ethan    m   15      56     163\n",
       "Fred     m   13      45     159\n",
       "Gloria   f   14      49     161\n",
       "Hellen   f   15      52     164\n",
       "Ian      m   15      57     167"
      ]
     },
     "execution_count": 8,
     "metadata": {},
     "output_type": "execute_result"
    }
   ],
   "source": [
    "students_ix.loc[\"Ethan\":\"Ian\"]"
   ]
  },
  {
   "cell_type": "markdown",
   "metadata": {},
   "source": [
    "Ne gjithashtu mund të përqëndrohemi në një veçori të veçantë:"
   ]
  },
  {
   "cell_type": "code",
   "execution_count": 9,
   "metadata": {
    "scrolled": true
   },
   "outputs": [
    {
     "data": {
      "text/plain": [
       "163"
      ]
     },
     "execution_count": 9,
     "metadata": {},
     "output_type": "execute_result"
    }
   ],
   "source": [
    "students_ix.loc[\"Ethan\", \"Height\"]"
   ]
  },
  {
   "cell_type": "markdown",
   "metadata": {},
   "source": [
    "ose shfaq një sërë karakteristikash për një seri rreshtash:"
   ]
  },
  {
   "cell_type": "code",
   "execution_count": 10,
   "metadata": {
    "scrolled": true
   },
   "outputs": [
    {
     "data": {
      "text/html": [
       "<div>\n",
       "<style scoped>\n",
       "    .dataframe tbody tr th:only-of-type {\n",
       "        vertical-align: middle;\n",
       "    }\n",
       "\n",
       "    .dataframe tbody tr th {\n",
       "        vertical-align: top;\n",
       "    }\n",
       "\n",
       "    .dataframe thead th {\n",
       "        text-align: right;\n",
       "    }\n",
       "</style>\n",
       "<table border=\"1\" class=\"dataframe\">\n",
       "  <thead>\n",
       "    <tr style=\"text-align: right;\">\n",
       "      <th></th>\n",
       "      <th>Weight</th>\n",
       "      <th>Height</th>\n",
       "    </tr>\n",
       "    <tr>\n",
       "      <th>Name</th>\n",
       "      <th></th>\n",
       "      <th></th>\n",
       "    </tr>\n",
       "  </thead>\n",
       "  <tbody>\n",
       "    <tr>\n",
       "      <th>Ethan</th>\n",
       "      <td>56</td>\n",
       "      <td>163</td>\n",
       "    </tr>\n",
       "    <tr>\n",
       "      <th>Fred</th>\n",
       "      <td>45</td>\n",
       "      <td>159</td>\n",
       "    </tr>\n",
       "    <tr>\n",
       "      <th>Gloria</th>\n",
       "      <td>49</td>\n",
       "      <td>161</td>\n",
       "    </tr>\n",
       "    <tr>\n",
       "      <th>Hellen</th>\n",
       "      <td>52</td>\n",
       "      <td>164</td>\n",
       "    </tr>\n",
       "    <tr>\n",
       "      <th>Ian</th>\n",
       "      <td>57</td>\n",
       "      <td>167</td>\n",
       "    </tr>\n",
       "  </tbody>\n",
       "</table>\n",
       "</div>"
      ],
      "text/plain": [
       "        Weight  Height\n",
       "Name                  \n",
       "Ethan       56     163\n",
       "Fred        45     159\n",
       "Gloria      49     161\n",
       "Hellen      52     164\n",
       "Ian         57     167"
      ]
     },
     "execution_count": 10,
     "metadata": {},
     "output_type": "execute_result"
    }
   ],
   "source": [
    "students_ix.loc[\"Ethan\":\"Ian\", \"Weight\":\"Height\"]"
   ]
  },
  {
   "cell_type": "markdown",
   "metadata": {},
   "source": [
    "## 7.3. Llogaritja nëpër rreshta dhe kolona të një tabele të indeksuar"
   ]
  },
  {
   "cell_type": "markdown",
   "metadata": {},
   "source": [
    "Në tabelën më poshtë kemi mbledhur notat e studentëve që kemi takuar tashmë në disa lëndë (Computers, English, Maths, Physics, Chemistry and Arts):"
   ]
  },
  {
   "cell_type": "code",
   "execution_count": 11,
   "metadata": {},
   "outputs": [],
   "source": [
    "marks = [[\"Anne\",    5, 3, 5, 2, 4, 5],\n",
    "         [\"Ben\",     5, 5, 5, 5, 5, 5],\n",
    "         [\"Colin\",   4, 5, 3, 4, 5, 4],\n",
    "         [\"Diana\",   5, 5, 5, 5, 5, 5],\n",
    "         [\"Ethan\",   3, 4, 2, 3, 3, 4],\n",
    "         [\"Fred\",    4, 5, 3, 4, 5, 4],\n",
    "         [\"Gloria\",  3, 3, 3, 4, 2, 3],\n",
    "         [\"Hellen\",  5, 5, 4, 5, 4, 5],\n",
    "         [\"Ian\",     4, 5, 4, 4, 3, 5],\n",
    "         [\"Jane\",    2, 2, 2, 2, 2, 5],\n",
    "         [\"Kate\",    3, 4, 5, 4, 5, 5]]"
   ]
  },
  {
   "cell_type": "markdown",
   "metadata": {},
   "source": [
    "Le ta kthejmë në një DataFrame të indeskuar"
   ]
  },
  {
   "cell_type": "code",
   "execution_count": 12,
   "metadata": {},
   "outputs": [
    {
     "data": {
      "text/html": [
       "<div>\n",
       "<style scoped>\n",
       "    .dataframe tbody tr th:only-of-type {\n",
       "        vertical-align: middle;\n",
       "    }\n",
       "\n",
       "    .dataframe tbody tr th {\n",
       "        vertical-align: top;\n",
       "    }\n",
       "\n",
       "    .dataframe thead th {\n",
       "        text-align: right;\n",
       "    }\n",
       "</style>\n",
       "<table border=\"1\" class=\"dataframe\">\n",
       "  <thead>\n",
       "    <tr style=\"text-align: right;\">\n",
       "      <th></th>\n",
       "      <th>Computers</th>\n",
       "      <th>English</th>\n",
       "      <th>Maths</th>\n",
       "      <th>Physics</th>\n",
       "      <th>Chemistry</th>\n",
       "      <th>Arts</th>\n",
       "    </tr>\n",
       "    <tr>\n",
       "      <th>Name</th>\n",
       "      <th></th>\n",
       "      <th></th>\n",
       "      <th></th>\n",
       "      <th></th>\n",
       "      <th></th>\n",
       "      <th></th>\n",
       "    </tr>\n",
       "  </thead>\n",
       "  <tbody>\n",
       "    <tr>\n",
       "      <th>Anne</th>\n",
       "      <td>5</td>\n",
       "      <td>3</td>\n",
       "      <td>5</td>\n",
       "      <td>2</td>\n",
       "      <td>4</td>\n",
       "      <td>5</td>\n",
       "    </tr>\n",
       "    <tr>\n",
       "      <th>Ben</th>\n",
       "      <td>5</td>\n",
       "      <td>5</td>\n",
       "      <td>5</td>\n",
       "      <td>5</td>\n",
       "      <td>5</td>\n",
       "      <td>5</td>\n",
       "    </tr>\n",
       "    <tr>\n",
       "      <th>Colin</th>\n",
       "      <td>4</td>\n",
       "      <td>5</td>\n",
       "      <td>3</td>\n",
       "      <td>4</td>\n",
       "      <td>5</td>\n",
       "      <td>4</td>\n",
       "    </tr>\n",
       "    <tr>\n",
       "      <th>Diana</th>\n",
       "      <td>5</td>\n",
       "      <td>5</td>\n",
       "      <td>5</td>\n",
       "      <td>5</td>\n",
       "      <td>5</td>\n",
       "      <td>5</td>\n",
       "    </tr>\n",
       "    <tr>\n",
       "      <th>Ethan</th>\n",
       "      <td>3</td>\n",
       "      <td>4</td>\n",
       "      <td>2</td>\n",
       "      <td>3</td>\n",
       "      <td>3</td>\n",
       "      <td>4</td>\n",
       "    </tr>\n",
       "    <tr>\n",
       "      <th>Fred</th>\n",
       "      <td>4</td>\n",
       "      <td>5</td>\n",
       "      <td>3</td>\n",
       "      <td>4</td>\n",
       "      <td>5</td>\n",
       "      <td>4</td>\n",
       "    </tr>\n",
       "    <tr>\n",
       "      <th>Gloria</th>\n",
       "      <td>3</td>\n",
       "      <td>3</td>\n",
       "      <td>3</td>\n",
       "      <td>4</td>\n",
       "      <td>2</td>\n",
       "      <td>3</td>\n",
       "    </tr>\n",
       "    <tr>\n",
       "      <th>Hellen</th>\n",
       "      <td>5</td>\n",
       "      <td>5</td>\n",
       "      <td>4</td>\n",
       "      <td>5</td>\n",
       "      <td>4</td>\n",
       "      <td>5</td>\n",
       "    </tr>\n",
       "    <tr>\n",
       "      <th>Ian</th>\n",
       "      <td>4</td>\n",
       "      <td>5</td>\n",
       "      <td>4</td>\n",
       "      <td>4</td>\n",
       "      <td>3</td>\n",
       "      <td>5</td>\n",
       "    </tr>\n",
       "    <tr>\n",
       "      <th>Jane</th>\n",
       "      <td>2</td>\n",
       "      <td>2</td>\n",
       "      <td>2</td>\n",
       "      <td>2</td>\n",
       "      <td>2</td>\n",
       "      <td>5</td>\n",
       "    </tr>\n",
       "    <tr>\n",
       "      <th>Kate</th>\n",
       "      <td>3</td>\n",
       "      <td>4</td>\n",
       "      <td>5</td>\n",
       "      <td>4</td>\n",
       "      <td>5</td>\n",
       "      <td>5</td>\n",
       "    </tr>\n",
       "  </tbody>\n",
       "</table>\n",
       "</div>"
      ],
      "text/plain": [
       "        Computers  English  Maths  Physics  Chemistry  Arts\n",
       "Name                                                       \n",
       "Anne            5        3      5        2          4     5\n",
       "Ben             5        5      5        5          5     5\n",
       "Colin           4        5      3        4          5     4\n",
       "Diana           5        5      5        5          5     5\n",
       "Ethan           3        4      2        3          3     4\n",
       "Fred            4        5      3        4          5     4\n",
       "Gloria          3        3      3        4          2     3\n",
       "Hellen          5        5      4        5          4     5\n",
       "Ian             4        5      4        4          3     5\n",
       "Jane            2        2      2        2          2     5\n",
       "Kate            3        4      5        4          5     5"
      ]
     },
     "execution_count": 12,
     "metadata": {},
     "output_type": "execute_result"
    }
   ],
   "source": [
    "marks_df = pd.DataFrame(marks)\n",
    "marks_df.columns=[\"Name\", \"Computers\", \"English\", \"Maths\", \"Physics\", \"Chemistry\", \"Arts\"]\n",
    "marks_ix = marks_df.set_index(\"Name\")\n",
    "marks_ix"
   ]
  },
  {
   "cell_type": "markdown",
   "metadata": {},
   "source": [
    "Llogaritja e notës mesatare për lëndë është e lehtë: ne thjesht aplikojmë `mean` për secilën kolonë të tabelës:"
   ]
  },
  {
   "cell_type": "code",
   "execution_count": 13,
   "metadata": {},
   "outputs": [
    {
     "name": "stdout",
     "output_type": "stream",
     "text": [
      "Computers -> 3.91\n",
      "English -> 4.18\n",
      "Maths -> 3.73\n",
      "Physics -> 3.82\n",
      "Chemistry -> 3.91\n",
      "Arts -> 4.55\n"
     ]
    }
   ],
   "source": [
    "for subj in marks_ix.columns:\n",
    "    print(subj, \"->\", round(marks_ix[subj].mean(), 2))"
   ]
  },
  {
   "cell_type": "markdown",
   "metadata": {},
   "source": [
    "Për të llogaritur notën mesatare për student do të aplikojmë `mean` në rreshtat e tabelës, të cilave i aksesojmë duke përdorur  `loc`. Si një stërvitje, le të llogarisim notën mesatare për Kate:"
   ]
  },
  {
   "cell_type": "code",
   "execution_count": 14,
   "metadata": {
    "scrolled": true
   },
   "outputs": [
    {
     "name": "stdout",
     "output_type": "stream",
     "text": [
      "Kate's marks:\n",
      "Computers    3\n",
      "English      4\n",
      "Maths        5\n",
      "Physics      4\n",
      "Chemistry    5\n",
      "Arts         5\n",
      "Name: Kate, dtype: int64\n",
      "The average mark: 4.33\n"
     ]
    }
   ],
   "source": [
    "print(\"Kate's marks:\")\n",
    "print(marks_ix.loc[\"Kate\"])\n",
    "print(\"The average mark:\", round(marks_ix.loc[\"Kate\"].mean(), 2))"
   ]
  },
  {
   "cell_type": "markdown",
   "metadata": {},
   "source": [
    "Emrat e të gjithë studentëve janë të vendosur në kolonën e indeksit, kështu që nota mesatare e secilit student në tabelë mund të llogaritet si kjo:"
   ]
  },
  {
   "cell_type": "code",
   "execution_count": 15,
   "metadata": {
    "scrolled": true
   },
   "outputs": [
    {
     "name": "stdout",
     "output_type": "stream",
     "text": [
      "Anne -> 4.0\n",
      "Ben -> 5.0\n",
      "Colin -> 4.17\n",
      "Diana -> 5.0\n",
      "Ethan -> 3.17\n",
      "Fred -> 4.17\n",
      "Gloria -> 3.0\n",
      "Hellen -> 4.67\n",
      "Ian -> 4.17\n",
      "Jane -> 2.5\n",
      "Kate -> 4.33\n"
     ]
    }
   ],
   "source": [
    "for student in marks_ix.index:\n",
    "    print(student, \"->\", round(marks_ix.loc[student].mean(), 2))"
   ]
  },
  {
   "cell_type": "markdown",
   "metadata": {},
   "source": [
    "## 7.4. Transpozimi i një tabele\n",
    "\n",
    "_Transposing_ një tabelë është një operacion që këmbejnë rreshtat dhe kolonat e tabelës në mënyrë që rreshti i parë të shkëmbehet me kolonën e parë, rreshtat e dytë shkëmbehen me kolonën e dytë etj. Kur transpozoni një DataFrame të indeksuar, emrat e kolonave bëhen rreshti i indeksit të tabelës së re, ndërsa rreshti i indeksit jep emrat e kolonave në tabelën e re.\n",
    "\n",
    "![Transpose](pics/DataFrame-T.jpg)\n",
    "\n",
    "Kujtoni që DataFrames janë optimizuar për qasje efikase në kolonat e tabelës. Prandaj, është e përshtatshme për të transpozuar një tabelë e cila ka disa rreshta shumë të gjatë. Për korrigjim, ne nuk kemi pse të imponojmë një tabelë që të jemi në gjendje të punojmë me të në mënyrë efikase (pasi 'loc' u jep mundësinë e përdorimit të rreshtave të tabelës), kështu që transpozimi i një tabelë është çështje shije ose komode.\n",
    "\n",
    "Për të zhvendosur një tabelë thjesht aplikoni `T` për të marrë tabelën e re, të transpozuar. Për shembull, kujtoni që:"
   ]
  },
  {
   "cell_type": "code",
   "execution_count": 16,
   "metadata": {
    "scrolled": true
   },
   "outputs": [
    {
     "data": {
      "text/html": [
       "<div>\n",
       "<style scoped>\n",
       "    .dataframe tbody tr th:only-of-type {\n",
       "        vertical-align: middle;\n",
       "    }\n",
       "\n",
       "    .dataframe tbody tr th {\n",
       "        vertical-align: top;\n",
       "    }\n",
       "\n",
       "    .dataframe thead th {\n",
       "        text-align: right;\n",
       "    }\n",
       "</style>\n",
       "<table border=\"1\" class=\"dataframe\">\n",
       "  <thead>\n",
       "    <tr style=\"text-align: right;\">\n",
       "      <th></th>\n",
       "      <th>Computers</th>\n",
       "      <th>English</th>\n",
       "      <th>Maths</th>\n",
       "      <th>Physics</th>\n",
       "      <th>Chemistry</th>\n",
       "      <th>Arts</th>\n",
       "    </tr>\n",
       "    <tr>\n",
       "      <th>Name</th>\n",
       "      <th></th>\n",
       "      <th></th>\n",
       "      <th></th>\n",
       "      <th></th>\n",
       "      <th></th>\n",
       "      <th></th>\n",
       "    </tr>\n",
       "  </thead>\n",
       "  <tbody>\n",
       "    <tr>\n",
       "      <th>Anne</th>\n",
       "      <td>5</td>\n",
       "      <td>3</td>\n",
       "      <td>5</td>\n",
       "      <td>2</td>\n",
       "      <td>4</td>\n",
       "      <td>5</td>\n",
       "    </tr>\n",
       "    <tr>\n",
       "      <th>Ben</th>\n",
       "      <td>5</td>\n",
       "      <td>5</td>\n",
       "      <td>5</td>\n",
       "      <td>5</td>\n",
       "      <td>5</td>\n",
       "      <td>5</td>\n",
       "    </tr>\n",
       "    <tr>\n",
       "      <th>Colin</th>\n",
       "      <td>4</td>\n",
       "      <td>5</td>\n",
       "      <td>3</td>\n",
       "      <td>4</td>\n",
       "      <td>5</td>\n",
       "      <td>4</td>\n",
       "    </tr>\n",
       "    <tr>\n",
       "      <th>Diana</th>\n",
       "      <td>5</td>\n",
       "      <td>5</td>\n",
       "      <td>5</td>\n",
       "      <td>5</td>\n",
       "      <td>5</td>\n",
       "      <td>5</td>\n",
       "    </tr>\n",
       "    <tr>\n",
       "      <th>Ethan</th>\n",
       "      <td>3</td>\n",
       "      <td>4</td>\n",
       "      <td>2</td>\n",
       "      <td>3</td>\n",
       "      <td>3</td>\n",
       "      <td>4</td>\n",
       "    </tr>\n",
       "    <tr>\n",
       "      <th>Fred</th>\n",
       "      <td>4</td>\n",
       "      <td>5</td>\n",
       "      <td>3</td>\n",
       "      <td>4</td>\n",
       "      <td>5</td>\n",
       "      <td>4</td>\n",
       "    </tr>\n",
       "    <tr>\n",
       "      <th>Gloria</th>\n",
       "      <td>3</td>\n",
       "      <td>3</td>\n",
       "      <td>3</td>\n",
       "      <td>4</td>\n",
       "      <td>2</td>\n",
       "      <td>3</td>\n",
       "    </tr>\n",
       "    <tr>\n",
       "      <th>Hellen</th>\n",
       "      <td>5</td>\n",
       "      <td>5</td>\n",
       "      <td>4</td>\n",
       "      <td>5</td>\n",
       "      <td>4</td>\n",
       "      <td>5</td>\n",
       "    </tr>\n",
       "    <tr>\n",
       "      <th>Ian</th>\n",
       "      <td>4</td>\n",
       "      <td>5</td>\n",
       "      <td>4</td>\n",
       "      <td>4</td>\n",
       "      <td>3</td>\n",
       "      <td>5</td>\n",
       "    </tr>\n",
       "    <tr>\n",
       "      <th>Jane</th>\n",
       "      <td>2</td>\n",
       "      <td>2</td>\n",
       "      <td>2</td>\n",
       "      <td>2</td>\n",
       "      <td>2</td>\n",
       "      <td>5</td>\n",
       "    </tr>\n",
       "    <tr>\n",
       "      <th>Kate</th>\n",
       "      <td>3</td>\n",
       "      <td>4</td>\n",
       "      <td>5</td>\n",
       "      <td>4</td>\n",
       "      <td>5</td>\n",
       "      <td>5</td>\n",
       "    </tr>\n",
       "  </tbody>\n",
       "</table>\n",
       "</div>"
      ],
      "text/plain": [
       "        Computers  English  Maths  Physics  Chemistry  Arts\n",
       "Name                                                       \n",
       "Anne            5        3      5        2          4     5\n",
       "Ben             5        5      5        5          5     5\n",
       "Colin           4        5      3        4          5     4\n",
       "Diana           5        5      5        5          5     5\n",
       "Ethan           3        4      2        3          3     4\n",
       "Fred            4        5      3        4          5     4\n",
       "Gloria          3        3      3        4          2     3\n",
       "Hellen          5        5      4        5          4     5\n",
       "Ian             4        5      4        4          3     5\n",
       "Jane            2        2      2        2          2     5\n",
       "Kate            3        4      5        4          5     5"
      ]
     },
     "execution_count": 16,
     "metadata": {},
     "output_type": "execute_result"
    }
   ],
   "source": [
    "marks_ix"
   ]
  },
  {
   "cell_type": "markdown",
   "metadata": {},
   "source": [
    "Pas transpozimit:"
   ]
  },
  {
   "cell_type": "code",
   "execution_count": 17,
   "metadata": {},
   "outputs": [],
   "source": [
    "marks_tr = marks_ix.T"
   ]
  },
  {
   "cell_type": "markdown",
   "metadata": {},
   "source": [
    "tabela e re duket kështu:"
   ]
  },
  {
   "cell_type": "code",
   "execution_count": 18,
   "metadata": {},
   "outputs": [
    {
     "data": {
      "text/html": [
       "<div>\n",
       "<style scoped>\n",
       "    .dataframe tbody tr th:only-of-type {\n",
       "        vertical-align: middle;\n",
       "    }\n",
       "\n",
       "    .dataframe tbody tr th {\n",
       "        vertical-align: top;\n",
       "    }\n",
       "\n",
       "    .dataframe thead th {\n",
       "        text-align: right;\n",
       "    }\n",
       "</style>\n",
       "<table border=\"1\" class=\"dataframe\">\n",
       "  <thead>\n",
       "    <tr style=\"text-align: right;\">\n",
       "      <th>Name</th>\n",
       "      <th>Anne</th>\n",
       "      <th>Ben</th>\n",
       "      <th>Colin</th>\n",
       "      <th>Diana</th>\n",
       "      <th>Ethan</th>\n",
       "      <th>Fred</th>\n",
       "      <th>Gloria</th>\n",
       "      <th>Hellen</th>\n",
       "      <th>Ian</th>\n",
       "      <th>Jane</th>\n",
       "      <th>Kate</th>\n",
       "    </tr>\n",
       "  </thead>\n",
       "  <tbody>\n",
       "    <tr>\n",
       "      <th>Computers</th>\n",
       "      <td>5</td>\n",
       "      <td>5</td>\n",
       "      <td>4</td>\n",
       "      <td>5</td>\n",
       "      <td>3</td>\n",
       "      <td>4</td>\n",
       "      <td>3</td>\n",
       "      <td>5</td>\n",
       "      <td>4</td>\n",
       "      <td>2</td>\n",
       "      <td>3</td>\n",
       "    </tr>\n",
       "    <tr>\n",
       "      <th>English</th>\n",
       "      <td>3</td>\n",
       "      <td>5</td>\n",
       "      <td>5</td>\n",
       "      <td>5</td>\n",
       "      <td>4</td>\n",
       "      <td>5</td>\n",
       "      <td>3</td>\n",
       "      <td>5</td>\n",
       "      <td>5</td>\n",
       "      <td>2</td>\n",
       "      <td>4</td>\n",
       "    </tr>\n",
       "    <tr>\n",
       "      <th>Maths</th>\n",
       "      <td>5</td>\n",
       "      <td>5</td>\n",
       "      <td>3</td>\n",
       "      <td>5</td>\n",
       "      <td>2</td>\n",
       "      <td>3</td>\n",
       "      <td>3</td>\n",
       "      <td>4</td>\n",
       "      <td>4</td>\n",
       "      <td>2</td>\n",
       "      <td>5</td>\n",
       "    </tr>\n",
       "    <tr>\n",
       "      <th>Physics</th>\n",
       "      <td>2</td>\n",
       "      <td>5</td>\n",
       "      <td>4</td>\n",
       "      <td>5</td>\n",
       "      <td>3</td>\n",
       "      <td>4</td>\n",
       "      <td>4</td>\n",
       "      <td>5</td>\n",
       "      <td>4</td>\n",
       "      <td>2</td>\n",
       "      <td>4</td>\n",
       "    </tr>\n",
       "    <tr>\n",
       "      <th>Chemistry</th>\n",
       "      <td>4</td>\n",
       "      <td>5</td>\n",
       "      <td>5</td>\n",
       "      <td>5</td>\n",
       "      <td>3</td>\n",
       "      <td>5</td>\n",
       "      <td>2</td>\n",
       "      <td>4</td>\n",
       "      <td>3</td>\n",
       "      <td>2</td>\n",
       "      <td>5</td>\n",
       "    </tr>\n",
       "    <tr>\n",
       "      <th>Arts</th>\n",
       "      <td>5</td>\n",
       "      <td>5</td>\n",
       "      <td>4</td>\n",
       "      <td>5</td>\n",
       "      <td>4</td>\n",
       "      <td>4</td>\n",
       "      <td>3</td>\n",
       "      <td>5</td>\n",
       "      <td>5</td>\n",
       "      <td>5</td>\n",
       "      <td>5</td>\n",
       "    </tr>\n",
       "  </tbody>\n",
       "</table>\n",
       "</div>"
      ],
      "text/plain": [
       "Name       Anne  Ben  Colin  Diana  Ethan  Fred  Gloria  Hellen  Ian  Jane  \\\n",
       "Computers     5    5      4      5      3     4       3       5    4     2   \n",
       "English       3    5      5      5      4     5       3       5    5     2   \n",
       "Maths         5    5      3      5      2     3       3       4    4     2   \n",
       "Physics       2    5      4      5      3     4       4       5    4     2   \n",
       "Chemistry     4    5      5      5      3     5       2       4    3     2   \n",
       "Arts          5    5      4      5      4     4       3       5    5     5   \n",
       "\n",
       "Name       Kate  \n",
       "Computers     3  \n",
       "English       4  \n",
       "Maths         5  \n",
       "Physics       4  \n",
       "Chemistry     5  \n",
       "Arts          5  "
      ]
     },
     "execution_count": 18,
     "metadata": {},
     "output_type": "execute_result"
    }
   ],
   "source": [
    "marks_tr"
   ]
  },
  {
   "cell_type": "markdown",
   "metadata": {},
   "source": [
    "Le të kontrollojmë se çfarë ka ndodhur me `index` dhe `columns`. Në tabelën origjinale kemi:"
   ]
  },
  {
   "cell_type": "code",
   "execution_count": 19,
   "metadata": {},
   "outputs": [
    {
     "data": {
      "text/plain": [
       "Index(['Anne', 'Ben', 'Colin', 'Diana', 'Ethan', 'Fred', 'Gloria', 'Hellen',\n",
       "       'Ian', 'Jane', 'Kate'],\n",
       "      dtype='object', name='Name')"
      ]
     },
     "execution_count": 19,
     "metadata": {},
     "output_type": "execute_result"
    }
   ],
   "source": [
    "marks_ix.index"
   ]
  },
  {
   "cell_type": "code",
   "execution_count": 20,
   "metadata": {},
   "outputs": [
    {
     "data": {
      "text/plain": [
       "Index(['Computers', 'English', 'Maths', 'Physics', 'Chemistry', 'Arts'], dtype='object')"
      ]
     },
     "execution_count": 20,
     "metadata": {},
     "output_type": "execute_result"
    }
   ],
   "source": [
    "marks_ix.columns"
   ]
  },
  {
   "cell_type": "markdown",
   "metadata": {},
   "source": [
    "ndërsa në tabelën e transpozuar kemi:"
   ]
  },
  {
   "cell_type": "code",
   "execution_count": 21,
   "metadata": {},
   "outputs": [
    {
     "data": {
      "text/plain": [
       "Index(['Computers', 'English', 'Maths', 'Physics', 'Chemistry', 'Arts'], dtype='object')"
      ]
     },
     "execution_count": 21,
     "metadata": {},
     "output_type": "execute_result"
    }
   ],
   "source": [
    "marks_tr.index"
   ]
  },
  {
   "cell_type": "code",
   "execution_count": 22,
   "metadata": {},
   "outputs": [
    {
     "data": {
      "text/plain": [
       "Index(['Anne', 'Ben', 'Colin', 'Diana', 'Ethan', 'Fred', 'Gloria', 'Hellen',\n",
       "       'Ian', 'Jane', 'Kate'],\n",
       "      dtype='object', name='Name')"
      ]
     },
     "execution_count": 22,
     "metadata": {},
     "output_type": "execute_result"
    }
   ],
   "source": [
    "marks_tr.columns"
   ]
  },
  {
   "cell_type": "markdown",
   "metadata": {},
   "source": [
    "Siç kemi parë tashmë, nota mesatare për lëndë mund të llogaritet lehtë:"
   ]
  },
  {
   "cell_type": "code",
   "execution_count": 23,
   "metadata": {},
   "outputs": [
    {
     "name": "stdout",
     "output_type": "stream",
     "text": [
      "Computers -> 3.91\n",
      "English -> 4.18\n",
      "Maths -> 3.73\n",
      "Physics -> 3.82\n",
      "Chemistry -> 3.91\n",
      "Arts -> 4.55\n"
     ]
    }
   ],
   "source": [
    "for subj in marks_ix.columns:\n",
    "    print(subj, \"->\", round(marks_ix[subj].mean(), 2))"
   ]
  },
  {
   "cell_type": "markdown",
   "metadata": {},
   "source": [
    "Për të llogaritur notat mesatare për secilin student, ne mund të përdorim `loc` për të hyrë në rreshtat e tabelës origjinale, por mund të bëjmë gjithashtu të njëjtën logjikë si më lart, por në tabelën e transpozuar:"
   ]
  },
  {
   "cell_type": "code",
   "execution_count": 24,
   "metadata": {},
   "outputs": [
    {
     "name": "stdout",
     "output_type": "stream",
     "text": [
      "Anne -> 4.0\n",
      "Ben -> 5.0\n",
      "Colin -> 4.17\n",
      "Diana -> 5.0\n",
      "Ethan -> 3.17\n",
      "Fred -> 4.17\n",
      "Gloria -> 3.0\n",
      "Hellen -> 4.67\n",
      "Ian -> 4.17\n",
      "Jane -> 2.5\n",
      "Kate -> 4.33\n"
     ]
    }
   ],
   "source": [
    "for student in marks_tr.columns:\n",
    "    print(student, \"->\", round(marks_tr[student].mean(), 2))"
   ]
  },
  {
   "cell_type": "markdown",
   "metadata": {},
   "source": [
    "## 7.5. Ushtrime"
   ]
  },
  {
   "cell_type": "markdown",
   "metadata": {},
   "source": [
    "**Ushtrimi 1.** Shikoni me kujdes kodin më poshtë dhe pastaj përgjigjuni pyetjeve që vijojnë:"
   ]
  },
  {
   "cell_type": "code",
   "execution_count": 25,
   "metadata": {},
   "outputs": [],
   "source": [
    "import pandas as pd\n",
    "students = [[\"Anne\",    \"f\", 13, 46, 160],\n",
    "            [\"Ben\",     \"m\", 14, 52, 165],\n",
    "            [\"Colin\",   \"m\", 13, 47, 157],\n",
    "            [\"Diana\",   \"f\", 15, 54, 165],\n",
    "            [\"Ethan\",   \"m\", 15, 56, 163],\n",
    "            [\"Fred\",    \"m\", 13, 45, 159],\n",
    "            [\"Gloria\",  \"f\", 14, 49, 161],\n",
    "            [\"Hellen\",  \"f\", 15, 52, 164],\n",
    "            [\"Ian\",     \"m\", 15, 57, 167],\n",
    "            [\"Jane\",    \"f\", 13, 45, 158],\n",
    "            [\"Kate\",    \"f\", 14, 51, 162]]\n",
    "students_df = pd.DataFrame(students)\n",
    "students_df.columns=[\"Name\", \"Sex\", \"Age\", \"Weight\", \"Height\"]\n",
    "students_ix=students_df.set_index(\"Name\")\n",
    "\n",
    "temp_anomalies = pd.read_csv(\"data/TempAnomalies.csv\", header=None)\n",
    "temp_anomalies_tr = temp_anomalies.T\n",
    "temp_anomalies_tr.columns = [\"Year\", \"Anomaly\"]"
   ]
  },
  {
   "cell_type": "markdown",
   "metadata": {},
   "source": [
    "1. Cila është diferenca  `students_df` dhe `students_ix`?\n",
    "2. Çfarë do të thotë `students_ix.index`?\n",
    "3. Sa është vlera e `students_ix.loc[\"Fred\"]`?\n",
    "4. Sa është vlera e `students_ix.loc[\"Fred\", \"Height\"]`?\n",
    "5. Sa është vlera e `students_df.loc[\"Fred\", \"Height\"]`?\n",
    "6. Mund të aplikojmë `T` tek `temp_anomalies`?\n",
    "7. Sa kolona ka `temp_anomalies_tr`?"
   ]
  },
  {
   "cell_type": "markdown",
   "metadata": {},
   "source": [
    "**Ushtrimi 2.** Kjo është një përmbledhje e shpenzimeve të një familjeje gjatë një viti (në monedhën vendase):\n",
    "  \n",
    "  | Item | Jan | Feb | Mar | Apr | May | Jun | Jul | Aug | Sep | Oct | Nov | Dec |\n",
    "  |--------|-----|-----|-----|-----|-----|-----|-----|-----|-----|-----|-----|-----|\n",
    "  | Rent             | 8,251 | 8,436 | 8,524 | 8,388 | 8,241 | 8,196 | 8,004 | 7,996 | 7,991 | 8,015 | 8,353 | 8,456 |\n",
    "  | Electricity      | 4,321 | 4,530 | 4,115 | 3,990 | 3,985 | 3,726 | 3,351 | 3,289 | 3,295 | 3,485 | 3,826 | 3,834 |\n",
    "  | Phone (landline) | 1,425 | 1,538 | 1,623 | 1,489 | 1,521 | 1,485 | 1,491 | 1,399 | 1,467 | 1,531 | 1,410 | 1,385 |\n",
    "  | Phone (cell)     | 2,181 | 2,235 | 2,073 | 1,951 | 1,989 | 1,945 | 3,017 | 2,638 | 2,171 | 1,831 | 1,926 | 1,833 |\n",
    "  | TV and Internet  | 2,399 | 2,399 | 2,399 | 2,399 | 2,399 | 2,399 | 2,399 | 2,399 | 2,399 | 2,399 | 2,399 | 2,399  |\n",
    "  | Transport        | 1,830 | 1,830 | 1,830 | 1,830 | 1,950 | 1,950 | 1,450 | 1,450 | 1,950 | 1,950 | 2,050 | 2,050 |\n",
    "  | Food             | 23,250 | 23,780 | 24,019 | 24,117 | 24,389 | 24,571 | 24,736 | 24,951 | 25,111 | 25,389 | 25,531 | 25,923 |\n",
    "  | Rest             | 4,500 | 3,700 | 5,100 | 3,500 | 2,750 | 4,250 | 7,320 | 8,250 | 3,270 | 4,290 | 3,200 | 8,390 |\n",
    "\n",
    "Tabela e prezantuar si listë duket kështu:"
   ]
  },
  {
   "cell_type": "code",
   "execution_count": 26,
   "metadata": {},
   "outputs": [],
   "source": [
    "spendings = [\n",
    "  [\"Rent\", 8251, 8436, 8524, 8388, 8241, 8196, 8004, 7996, 7991, 8015, 8353, 8456],\n",
    "  [\"Electricity\", 4321, 4530, 4115, 3990, 3985, 3726, 3351, 3289, 3295, 3485, 3826, 3834],\n",
    "  [\"Landline\", 1425, 1538, 1623, 1489, 1521, 1485, 1491, 1399, 1467, 1531, 1410, 1385],\n",
    "  [\"Cell\", 2181, 2235, 2073, 1951, 1989, 1945, 3017, 2638, 2171, 1831, 1926, 1833],\n",
    "  [\"TV and Internet\", 2399, 2399, 2399, 2399, 2399, 2399, 2399, 2399, 2399, 2399, 2399, 2399 ],\n",
    "  [\"Transport\", 1830, 1830, 1830, 1830, 1950, 1950, 1450, 1450, 1950, 1950, 2050, 2050],\n",
    "  [\"Food\", 23250, 23780, 24019, 24117, 24389, 24571, 24736, 24951, 25111, 25389, 25531, 25923],\n",
    "  [\"Rest\", 4500, 3700, 5100, 3500, 2750, 4250, 7320, 8250, 3270, 4290, 3200, 8390]\n",
    "]"
   ]
  },
  {
   "cell_type": "markdown",
   "metadata": {},
   "source": [
    "_(a)_ Shndërroni këtë listë në një DataFrame dhe indeksoni atë."
   ]
  },
  {
   "cell_type": "markdown",
   "metadata": {},
   "source": [
    "_(b)_ Llogaritni shpenzimet mesatare të kësaj familje për artikull (Rent, Electricity etj)."
   ]
  },
  {
   "cell_type": "markdown",
   "metadata": {},
   "source": [
    "**Ushtrimi 3.** Pesë grupe studentësh morën pjesë në një sondazh studentor për zhanret e tyre të preferuar të filmit. Çdo studenti i lejohej të votonte saktësisht një zhanër. Rezultatet e sondazhit janë përmbledhur më poshtë:\n",
    "\n",
    "| Genre | Group 1 | Group 2 | Group 3 | Group 4 | Group 5 |\n",
    "|------|-----|-----|-----|-----|-----|\n",
    "| Comedy | 4 | 3 | 5 | 2 | 3 |\n",
    "| Horror | 1 | 0 | 2 | 1 | 6 |\n",
    "| SF | 10 | 7 | 9 | 8 | 9 |\n",
    "| Adventure | 4 | 3 | 4 | 2 | 2 |\n",
    "| History | 1 | 0 | 2 | 0 | 0 |\n",
    "| Romance | 11 | 10 | 7 | 9 | 8 |"
   ]
  },
  {
   "cell_type": "markdown",
   "metadata": {},
   "source": [
    "_(a)_ Kthejeni këtë në një _DataFrame_ të indeksuar nga zhanri."
   ]
  },
  {
   "cell_type": "markdown",
   "metadata": {},
   "source": [
    "_(b)_ Llogaritni numrin e votave për zhanër."
   ]
  },
  {
   "cell_type": "markdown",
   "metadata": {},
   "source": [
    "_(c)_ Për secilin grup llogaritni numrin e përgjithshëm të studentëve që morën pjesë në votime."
   ]
  },
  {
   "cell_type": "markdown",
   "metadata": {},
   "source": [
    "_(d)_ Cili është numri i përgjithshëm i studentëve që morën pjesë në votime?"
   ]
  },
  {
   "cell_type": "markdown",
   "metadata": {},
   "source": [
    "**Ushtrimi 4.** Të dhëna ushqyese për produkte të caktuara, të dhëna në tabelën më poshtë:\n",
    "\n",
    "| Product (100g) | Nutritive value (kcal) | Carbohydrates (g) | Proteins (g) | Fats (g) |\n",
    "|--|--|--|--|--|\n",
    "| Rye bread | 250 | 48.2 | 8.4 | 1.0 |\n",
    "| White bread | 280 | 57.5 | 6.8 | 0.5 |\n",
    "| Cheese spread | 127 | 4.0 | 3.1 | 10.5 |\n",
    "| Margarin | 532 | 4.6 | 3.2 | 1.5 |\n",
    "| Yoghurt | 48 | 4.7 | 4.0 | 3.3 |\n",
    "| Milk (2.8%) | 57 | 4.7 | 3.3 | 2.8 |\n",
    "| Salami | 523 | 1.0 | 17.0 | 47.0 |\n",
    "| Ham | 268 | 0.0 | 25.5 | 18.4 |\n",
    "| Chicken breast | 110 | 0.0 | 23.1 | 1.2 |\n",
    "\n",
    "Në qelizën më poshtë kemi shndërruar këtë tabelë në një _DataFrame_ të indeksuar me emrin e produktit:"
   ]
  },
  {
   "cell_type": "code",
   "execution_count": 27,
   "metadata": {},
   "outputs": [],
   "source": [
    "food = pd.DataFrame([\n",
    "    [\"R-bread\", 250, 48.2, 8.4, 1.0],\n",
    "    [\"W-bread\", 280, 57.5, 6.8, 0.5],\n",
    "    [\"Spread\", 127, 4.0, 3.1, 10.5],\n",
    "    [\"Margarin\", 532, 4.6, 3.2, 1.5],\n",
    "    [\"Yoghurt\", 48, 4.7, 4.0, 3.3],\n",
    "    [\"Milk\", 57, 4.7, 3.3, 2.8],\n",
    "    [\"Salami\", 523, 1.0, 17.0, 47.0],\n",
    "    [\"Ham\", 268, 0.0, 25.5, 18.4],\n",
    "    [\"ChBreast\", 110, 0.0, 23.1, 1.2]])\n",
    "food.columns=[\"Product\", \"NutrVal\", \"Carbs\", \"Proteins\", \"Fats\"]\n",
    "food_ix = food.set_index(\"Product\")"
   ]
  },
  {
   "cell_type": "markdown",
   "metadata": {},
   "source": [
    "_(a)_ Për mëngjesin e tij Mike kishte dy copë bukë të bardhë dhe kishte një filxhan qumësht. Çdo copë bukë kishte përhapur disa djathë dhe një fetë proshutë. Cila është vlera ushqyese e mëngjesit të Mike (në kcal) nëse supozojmë se secila copë bukë peshon 100g, se për 10h përhapje është përdorur për një copë bukë, se një fetë proshutë peshon 20g dhe se një filxhan qumësht përmban 200 d e qumeshtit?"
   ]
  },
  {
   "cell_type": "markdown",
   "metadata": {},
   "source": [
    "_(b)_ Sa yndyrë ka pasur në mëngjesin e Mike?"
   ]
  },
  {
   "cell_type": "markdown",
   "metadata": {},
   "source": [
    "_(c)_ Vizualizoni sasinë e karbohidrateve në këto produkte."
   ]
  },
  {
   "cell_type": "markdown",
   "metadata": {},
   "source": [
    "**Ushtrimi 5.** Anomalia e temperaturës është një numër që na tregon se sa temperatura mesatare në një vit të veçantë devijon nga vlera optimale. Skeda _TempAnomalies.csv_ e vendosur në dosjen _data_ përmban anomalitë e temperaturës (në gradë Celsius) për periudhën prej 40 vjetësh (1977-2017). Dosja ka dy rreshta si kjo:\n",
    "\n",
    "    1977,1978,1979,1980,1981,...\n",
    "    0.22,0.14,0.15,0.3,0.37,...\n",
    "\n",
    "_(a)_ Vendosni tabelën në një _DataFrame_ (Shënim: tabela nuk ka header, kështu që ju nevojitet opsioni `header = None` në` read_scv` tuaj.)"
   ]
  },
  {
   "cell_type": "code",
   "execution_count": null,
   "metadata": {},
   "outputs": [],
   "source": []
  },
  {
   "cell_type": "markdown",
   "metadata": {},
   "source": [
    "_(b)_ Ndërroni tabelën dhe thërrsni dy kolonat \"Year\" dhe \"Anomaly\"."
   ]
  },
  {
   "cell_type": "code",
   "execution_count": null,
   "metadata": {},
   "outputs": [],
   "source": []
  },
  {
   "cell_type": "markdown",
   "metadata": {},
   "source": [
    "_(c)_ Indekso tabelën."
   ]
  },
  {
   "cell_type": "code",
   "execution_count": null,
   "metadata": {},
   "outputs": [],
   "source": []
  },
  {
   "cell_type": "markdown",
   "metadata": {},
   "source": [
    "_(d)_ Vizualizoni anomalitë e temperaturës me një grafik vijash."
   ]
  },
  {
   "cell_type": "code",
   "execution_count": null,
   "metadata": {},
   "outputs": [],
   "source": []
  }
 ],
 "metadata": {
  "kernelspec": {
   "display_name": "Python 3",
   "language": "python",
   "name": "python3"
  },
  "language_info": {
   "codemirror_mode": {
    "name": "ipython",
    "version": 3
   },
   "file_extension": ".py",
   "mimetype": "text/x-python",
   "name": "python",
   "nbconvert_exporter": "python",
   "pygments_lexer": "ipython3",
   "version": "3.7.6"
  }
 },
 "nbformat": 4,
 "nbformat_minor": 2
}
