{
 "cells": [
  {
   "cell_type": "markdown",
   "metadata": {},
   "source": [
    "# 0. Ekzekutimi i Jupyter notebook\n",
    "\n",
    "Në këtë leksion të shkurtër ne tregojmë tre mënyra për të (shkarkuar dhe) ekzekutimi i Jupiter notebook që shoqërojnë këtë kurs. Kjo ju jep mundësinë të kaloni në versionin interaktiv të ligjëratave dhe të eksperimentoni me shembujt që diskutojmë në kurs.\n",
    "\n",
    "Ne do të mbulojmë tre mundësi për të drejtuar Jupyter notebook të këtij kursi:\n",
    "\n",
    "1. duke përdorur shërbimin *Binder* të disponueshëm në *mybinder.org* (kjo është e përshtatshme sepse nuk ka nevojë të instaloni softuer të ri në kompjuterin tuaj ose të krijoni një llogari; dobësi është se ndryshimet që ju bëni gjatë eksperimentit me notebooks nuk do të ruhet.\n",
    "2. duke përdorur shërbimin *Azure Notebook* të cloud (kjo është e përshtatshme sepse nuk ka nevojë të instaloni softuer të ri në kompjuterin tuaj; megjithatë, ju kërkohet të krijoni një llogari falas të Microsoft, por si kthim të gjitha ndryshimet që bëni në fletoret) do të ruhet brenda llogarisë suaj Microsoft); dhe\n",
    "3. lokalisht, në kompjuterin tuaj (kërkon instalimin e Python dhe Jupyter)."
   ]
  },
  {
   "cell_type": "markdown",
   "metadata": {},
   "source": [
    "## 0.1. Ekzekutimi i Jupyter notebooks duke përdorur shërbimin *Binder*\n",
    "\n",
    "Mënyra më e lehtë për të drejtuar Jupyter notebooks që shoqërojnë këtë kurs është të klikoni në lidhjen më poshtë:\n",
    "\n",
    "[https://mybinder.org/v2/gh/Petlja/JupyterBookEng/master](https://mybinder.org/v2/gh/Petlja/JupyterBookEng/master)\n",
    "\n",
    "![instalacija](pics/inst01.jpg)\n",
    "\n",
    "Shërbimi do të bëjë një kopje të freskët të Jupyter notebook për ju dhe do të përgatisë mjedisin në të cilin notebook mund të ekzekutohen. E gjithë kjo kërkon ca kohë, megjithatë:\n",
    "\n",
    "![instalacija](pics/inst15.jpg)\n",
    "\n",
    "Do të pranoni që përgatitja ka mbaruar kur shfletuesi juaj i parazgjedhur i faqes shfaqet dhe shfaq një faqe që duket si kjo:\n",
    "\n",
    "![instalacija](pics/inst02.jpg)\n",
    "\n",
    "Tani mund të klikoni secilën prej lidhjeve për të ekzekutuar notebook në një skedë të re. Kaloni në skedën që përmban notebook dhe ekzekutoni hap pas hapi.\n",
    "\n",
    "Kjo qasje është e përshtatshme sepse nuk ka nevojë të instaloni softuer të ri në kompjuterin tuaj ose të krijoni një llogari; mangësia është se ndryshimet që ju bëni gjatë eksperimentimit me notebook *nuk* do të ruhen. Dhe përgatitja e një mjedisi të freskët mund të zgjasë ca kohë."
   ]
  },
  {
   "cell_type": "markdown",
   "metadata": {},
   "source": [
    "## 0.2.  Ekzekutimi i Jupyter notebook duke përdorur shërbimin *Azure Notebooks* të cloud\n",
    "\n",
    "Jupyter notebook që shoqërojnë këtë kurs mund të ekzekutohen në një shërbim cloud siç janë *Azure Notebooks*. Kjo bën të mundur që ju të ruani ndryshimet që keni bërë në notebook në cloud. Nuk ka nevojë të instaloni një softuer të ri në kompjuterin tuaj, por ju kërkohet të krijoni një llogari falas të Microsoft (përveç nëse tashmë keni një të tillë).\n",
    "\n",
    "**Hapi 1.** Klikoni linkun:\n",
    "\n",
    "[https://notebooks.azure.com/](https://notebooks.azure.com/)\n",
    "\n",
    "krijoni një llogari (*falas!*) (nëse nuk keni një).\n",
    "\n",
    "![instalacija](pics/inst03.jpg)\n",
    "\n",
    "**Hapi 2.** Pasi keni hyrë në *Azure Notebooks* shkoni tek *My Projects*\n",
    "\n",
    "![instalacija](pics/inst05.jpg)\n",
    "\n",
    "dhe klikoni *Upload Github Repo*:\n",
    "\n",
    "![instalacija](pics/inst07.jpg)\n",
    "\n",
    "\n",
    "**Hapi 3.** Në formën që hapet lokalizoni fushën e repos *GitHub* dhe shkruani https://github.com/Petlja/JupyterBookEng (plotësoni fushat e mbetura në formular si ta shihni të përshtatshme):\n",
    "\n",
    "![instalacija](pics/inst08.jpg)\n",
    "\n",
    "**Hapi 4.** Kliko *Import*.\n",
    "\n",
    "Lista e projekteve tuaja tani do të tregojë një projekt të ri që mund ta hapni dhe ekzekutoni.\n",
    "\n",
    "![instalacija](pics/inst09.jpg)"
   ]
  },
  {
   "cell_type": "markdown",
   "metadata": {},
   "source": [
    "## 0.3. Përdorimi i Jupyter notebook lokalisht, në kompjuterin tuaj\n",
    "\n",
    "Kjo është deri tani mënyra më fleksibile për të ekzekutuar Jupyter notebook, por si kthim kërkon disa përgatitje nga ana juaj.\n",
    "\n",
    "**Hapi 1.** Instaloni Python (përveç nëse tashmë keni një instalim Python).\n",
    "\n",
    "**Hapi 2.** Klikoni me të djathtën në faqen e mëposhtme\n",
    "\n",
    "[https://github.com/Petlja/JupyterBookEng/archive/master.zip](https://github.com/Petlja/JupyterBookEng/archive/master.zip)\n",
    "\n",
    "për të shkarkuar skedarin `master.zip`. Krijoni një dosje të re dhe hapni skedarin atje.\n",
    "\n",
    "![Instalacija](pics/inst10.jpg)\n",
    "\n",
    "Hapni një dritare komande (*PowerShell*) në dosje:\n",
    "\n",
    "![Instalacija](pics/inst11.jpg)\n",
    "\n",
    "dhe ekzekutoni komandën e mëposhtme:\n",
    "\n",
    "    pip3 install -r requirements.txt\n",
    "\n",
    "![Instalacija](pics/inst12.jpg)\n",
    "\n",
    "në të njëjtën dritani shkruani:\n",
    "\n",
    "    jupyter notebook\n",
    "\n",
    "për të hapur Jyputer:\n",
    "\n",
    "![Instalacija](pics/inst13.jpg)\n",
    "\n",
    "Shfletuesi juaj i faqes shfaq një faqe që duket si kjo:\n",
    "\n",
    "![instalacija](pics/inst14.jpg)\n",
    "\n",
    "Tani mund të klikoni secilën prej lidhjeve për të ekzekutuar notebook në një skedë të re. Kaloni në skedën që përmban notebook dhe ekzekutojeni hap pas hapi."
   ]
  },
  {
   "cell_type": "code",
   "execution_count": null,
   "metadata": {},
   "outputs": [],
   "source": []
  }
 ],
 "metadata": {
  "kernelspec": {
   "display_name": "Python 3",
   "language": "python",
   "name": "python3"
  },
  "language_info": {
   "codemirror_mode": {
    "name": "ipython",
    "version": 3
   },
   "file_extension": ".py",
   "mimetype": "text/x-python",
   "name": "python",
   "nbconvert_exporter": "python",
   "pygments_lexer": "ipython3",
   "version": "3.7.6"
  }
 },
 "nbformat": 4,
 "nbformat_minor": 2
}
