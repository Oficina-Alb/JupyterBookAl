{
 "cells": [
  {
   "cell_type": "markdown",
   "metadata": {},
   "source": [
    "# 10. Jupyter dhe Excel\n",
    "\n",
    "Në këtë leksion do të flasim për:\n",
    "1. marrëdhëniet midis Jupyter dhe Microsoft Excel;\n",
    "2. tabela e ngarkimit nga skedarët Excel; dhe\n",
    "3. shkrimi i tabelave te skedarët Excel."
   ]
  },
  {
   "cell_type": "markdown",
   "metadata": {},
   "source": [
    "## 10.1. Pse Jupyter, dhe pse Excel\n",
    "\n",
    "Microsoft Excel është programi më i popullarizuar spreadsheet në botë. I detyrohet popullaritetit të saj për faktin se tabela ku po punoni është pikërisht atje përpara jush, mund ta shihni, mund të klikoni në një qelizë dhe të shkruani një vlerë ose një formulë. Është një përfaqësues tipik i shprehjes _çfarë shihni është ajo që  merrni_. Prandaj, pse vendosëm ta përqendrojmë këtë kurs te Jupyter?\n",
    "\n",
    "* Çmimi._ Microsoft Excel është një produkt komercial - kushton. Në ndryshim me Python, të gjitha libraritë e tij shoqëruese dhe Jupyter si mjedisi ndërveprues janë _pa pagesë_.\n",
    "\n",
    "* _Procedurat qartësisht të dukshme._ Përpunimi i të dhënave në Microsoft Excel konsiston në futjen e formulave në qeliza. Nëse jeni duke punuar me një tabelë me marrëdhënie të ndërlikuara midis qelizave të shprehura nga shumë formula të ndërlikuara të shpërndara në të gjithë fletën e punës, së shpejti bëhet gati e pamundur të gjurmoni rrjedhën e informacionit dhe, më e rëndësishmja, të kuptoni, debugoni dhe përmirësoni procesin. Nga ana tjetër, nëse përpunimi shprehet në terma të një gjuhe programimi (si Python), ne humbim qasjen _çfarë ju shihni është ajo që merrni_ e Excel-it, por fitojmë shumë më tepër në lexueshmërinë e kodit. Një procedurë e qartë e vendosur në një vend (një qelizë Jupyter ose një skedar Python) dhe e koduar në një gjuhë të thjeshtë dhe ekspresive të programimit lehtë mund të kontrollohet për gabime, të azhornohet dhe të ndahet.\n",
    "\n",
    "* _Fleksibiliteti._ Microsoft Excel është i përshtatshëm për përpunimin e tabelave që janë relativisht të vogla në mënyrë që ata të mund të përshtaten lehtësisht në disa ekrane kompjuteri. Pasi të gjeni veten në pozicionin ku duhet të përpunoni tabela _të mëdha_ me mijëra rreshta dhe kolona, avantazhet e gjuhëve të shkrimit bëhen të dukshme. Për më tepër, çdo shpërndarje e Python vjen me një rrethim të madh të librarive ku shumica e algoritmeve standarde të përpunimit të të dhënave janë zbatuar tashmë.\n",
    "\n",
    "Përdorimi i procedurave të qarta të dukshme që _nuk_ janë duke u bashkuar me të dhënat për t'u analizuar është mënyra më efikase për të përpunuar të dhënat. Kjo është baza i çdo qasjeje ndaj përpunimit modern të të dhënave."
   ]
  },
  {
   "cell_type": "markdown",
   "metadata": {},
   "source": [
    "## 10.2.Ngarkimi i tabelave nga skedarët lokalë të Excel\n",
    "\n",
    "Çdo dokument i Excel përbëhet nga disa _worksheets_. Çdo fletë pune është një tabelë e cila mund të arrihet përmes emrit të saj:\n",
    "\n",
    "![Worksheets](pics/Excel.jpg)\n",
    "\n",
    "Për shkak se Microsoft Excel është programi më i popullarizuar i spreadsheet në botë, libraria _pandas_ ka një mënyrë për të ngarkuar një fletë pune të një dokumenti Excel në një DataFrame. Nëse një dokument i Excel përbëhet nga disa fletë pune, ne duhet ta ngarkojmë atë si disa DataFrames - një DataFrame për fletë pune.\n",
    "\n",
    "Për shembull, skedari _data / Additives.xlsx_ ka një fletë pune të vetme \"E-numbers\" të cilën e ngarkojmë në një DataFrame drejtpërdrejt:"
   ]
  },
  {
   "cell_type": "code",
   "execution_count": 1,
   "metadata": {},
   "outputs": [],
   "source": [
    "import pandas as pd\n",
    "additives = pd.read_excel(\"data/Additives.xlsx\", sheet_name=\"E-numbers\")"
   ]
  },
  {
   "cell_type": "markdown",
   "metadata": {},
   "source": [
    "Ky skedar përmban disa informacione themelore në lidhje me konservuesit, të cilat janë substanca të përdorura në industrinë ushqimore për të ruajtur ushqimin ose për të rritur ngjyrën dhe shijen e tij. Le të shohim në tabelë:"
   ]
  },
  {
   "cell_type": "code",
   "execution_count": 2,
   "metadata": {},
   "outputs": [
    {
     "data": {
      "text/html": [
       "<div>\n",
       "<style scoped>\n",
       "    .dataframe tbody tr th:only-of-type {\n",
       "        vertical-align: middle;\n",
       "    }\n",
       "\n",
       "    .dataframe tbody tr th {\n",
       "        vertical-align: top;\n",
       "    }\n",
       "\n",
       "    .dataframe thead th {\n",
       "        text-align: right;\n",
       "    }\n",
       "</style>\n",
       "<table border=\"1\" class=\"dataframe\">\n",
       "  <thead>\n",
       "    <tr style=\"text-align: right;\">\n",
       "      <th></th>\n",
       "      <th>E-number</th>\n",
       "      <th>Status</th>\n",
       "      <th>Comment</th>\n",
       "    </tr>\n",
       "  </thead>\n",
       "  <tbody>\n",
       "    <tr>\n",
       "      <th>0</th>\n",
       "      <td>100</td>\n",
       "      <td>harmless</td>\n",
       "      <td>NaN</td>\n",
       "    </tr>\n",
       "    <tr>\n",
       "      <th>1</th>\n",
       "      <td>101</td>\n",
       "      <td>harmless</td>\n",
       "      <td>NaN</td>\n",
       "    </tr>\n",
       "    <tr>\n",
       "      <th>2</th>\n",
       "      <td>102</td>\n",
       "      <td>DANGEROUS</td>\n",
       "      <td>NaN</td>\n",
       "    </tr>\n",
       "    <tr>\n",
       "      <th>3</th>\n",
       "      <td>104</td>\n",
       "      <td>harmless</td>\n",
       "      <td>NaN</td>\n",
       "    </tr>\n",
       "    <tr>\n",
       "      <th>4</th>\n",
       "      <td>105</td>\n",
       "      <td>harmless</td>\n",
       "      <td>NaN</td>\n",
       "    </tr>\n",
       "    <tr>\n",
       "      <th>5</th>\n",
       "      <td>110</td>\n",
       "      <td>DANGEROUS</td>\n",
       "      <td>NaN</td>\n",
       "    </tr>\n",
       "    <tr>\n",
       "      <th>6</th>\n",
       "      <td>111</td>\n",
       "      <td>harmless</td>\n",
       "      <td>NaN</td>\n",
       "    </tr>\n",
       "    <tr>\n",
       "      <th>7</th>\n",
       "      <td>120</td>\n",
       "      <td>DANGEROUS</td>\n",
       "      <td>NaN</td>\n",
       "    </tr>\n",
       "    <tr>\n",
       "      <th>8</th>\n",
       "      <td>121</td>\n",
       "      <td>harmless</td>\n",
       "      <td>NaN</td>\n",
       "    </tr>\n",
       "    <tr>\n",
       "      <th>9</th>\n",
       "      <td>123</td>\n",
       "      <td>DANGEROUS</td>\n",
       "      <td>NaN</td>\n",
       "    </tr>\n",
       "    <tr>\n",
       "      <th>10</th>\n",
       "      <td>124</td>\n",
       "      <td>DANGEROUS</td>\n",
       "      <td>NaN</td>\n",
       "    </tr>\n",
       "    <tr>\n",
       "      <th>11</th>\n",
       "      <td>125</td>\n",
       "      <td>lab trials</td>\n",
       "      <td>NaN</td>\n",
       "    </tr>\n",
       "    <tr>\n",
       "      <th>12</th>\n",
       "      <td>130</td>\n",
       "      <td>harmless</td>\n",
       "      <td>NaN</td>\n",
       "    </tr>\n",
       "    <tr>\n",
       "      <th>13</th>\n",
       "      <td>131</td>\n",
       "      <td>HARMFUL</td>\n",
       "      <td>may cause cancer</td>\n",
       "    </tr>\n",
       "    <tr>\n",
       "      <th>14</th>\n",
       "      <td>132</td>\n",
       "      <td>harmless</td>\n",
       "      <td>NaN</td>\n",
       "    </tr>\n",
       "  </tbody>\n",
       "</table>\n",
       "</div>"
      ],
      "text/plain": [
       "    E-number      Status           Comment\n",
       "0        100    harmless               NaN\n",
       "1        101    harmless               NaN\n",
       "2        102   DANGEROUS               NaN\n",
       "3        104    harmless               NaN\n",
       "4        105    harmless               NaN\n",
       "5        110   DANGEROUS               NaN\n",
       "6        111    harmless               NaN\n",
       "7        120   DANGEROUS               NaN\n",
       "8        121    harmless               NaN\n",
       "9        123   DANGEROUS               NaN\n",
       "10       124   DANGEROUS               NaN\n",
       "11       125  lab trials               NaN\n",
       "12       130    harmless               NaN\n",
       "13       131     HARMFUL  may cause cancer\n",
       "14       132    harmless               NaN"
      ]
     },
     "execution_count": 2,
     "metadata": {},
     "output_type": "execute_result"
    }
   ],
   "source": [
    "additives.head(15)"
   ]
  },
  {
   "cell_type": "markdown",
   "metadata": {},
   "source": [
    "Qelizat që ishin bosh në tabelën Excel marrin një vlerë të veçantë _NaN_, e cila nënkupton \"jo një numër\". Meqenëse në rastin tonë këto qeliza përfaqësojnë komente, ne dëshirojmë që qelizat boshe të mbeten bosh. Pra, ne do të rimbushim tabelën, por këtë herë udhëzojmë që sistemi të mos raportojë për qelizat boshe:"
   ]
  },
  {
   "cell_type": "code",
   "execution_count": 3,
   "metadata": {},
   "outputs": [
    {
     "data": {
      "text/html": [
       "<div>\n",
       "<style scoped>\n",
       "    .dataframe tbody tr th:only-of-type {\n",
       "        vertical-align: middle;\n",
       "    }\n",
       "\n",
       "    .dataframe tbody tr th {\n",
       "        vertical-align: top;\n",
       "    }\n",
       "\n",
       "    .dataframe thead th {\n",
       "        text-align: right;\n",
       "    }\n",
       "</style>\n",
       "<table border=\"1\" class=\"dataframe\">\n",
       "  <thead>\n",
       "    <tr style=\"text-align: right;\">\n",
       "      <th></th>\n",
       "      <th>E-number</th>\n",
       "      <th>Status</th>\n",
       "      <th>Comment</th>\n",
       "    </tr>\n",
       "  </thead>\n",
       "  <tbody>\n",
       "    <tr>\n",
       "      <th>0</th>\n",
       "      <td>100</td>\n",
       "      <td>harmless</td>\n",
       "      <td></td>\n",
       "    </tr>\n",
       "    <tr>\n",
       "      <th>1</th>\n",
       "      <td>101</td>\n",
       "      <td>harmless</td>\n",
       "      <td></td>\n",
       "    </tr>\n",
       "    <tr>\n",
       "      <th>2</th>\n",
       "      <td>102</td>\n",
       "      <td>DANGEROUS</td>\n",
       "      <td></td>\n",
       "    </tr>\n",
       "    <tr>\n",
       "      <th>3</th>\n",
       "      <td>104</td>\n",
       "      <td>harmless</td>\n",
       "      <td></td>\n",
       "    </tr>\n",
       "    <tr>\n",
       "      <th>4</th>\n",
       "      <td>105</td>\n",
       "      <td>harmless</td>\n",
       "      <td></td>\n",
       "    </tr>\n",
       "    <tr>\n",
       "      <th>5</th>\n",
       "      <td>110</td>\n",
       "      <td>DANGEROUS</td>\n",
       "      <td></td>\n",
       "    </tr>\n",
       "    <tr>\n",
       "      <th>6</th>\n",
       "      <td>111</td>\n",
       "      <td>harmless</td>\n",
       "      <td></td>\n",
       "    </tr>\n",
       "    <tr>\n",
       "      <th>7</th>\n",
       "      <td>120</td>\n",
       "      <td>DANGEROUS</td>\n",
       "      <td></td>\n",
       "    </tr>\n",
       "    <tr>\n",
       "      <th>8</th>\n",
       "      <td>121</td>\n",
       "      <td>harmless</td>\n",
       "      <td></td>\n",
       "    </tr>\n",
       "    <tr>\n",
       "      <th>9</th>\n",
       "      <td>123</td>\n",
       "      <td>DANGEROUS</td>\n",
       "      <td></td>\n",
       "    </tr>\n",
       "    <tr>\n",
       "      <th>10</th>\n",
       "      <td>124</td>\n",
       "      <td>DANGEROUS</td>\n",
       "      <td></td>\n",
       "    </tr>\n",
       "    <tr>\n",
       "      <th>11</th>\n",
       "      <td>125</td>\n",
       "      <td>lab trials</td>\n",
       "      <td></td>\n",
       "    </tr>\n",
       "    <tr>\n",
       "      <th>12</th>\n",
       "      <td>130</td>\n",
       "      <td>harmless</td>\n",
       "      <td></td>\n",
       "    </tr>\n",
       "    <tr>\n",
       "      <th>13</th>\n",
       "      <td>131</td>\n",
       "      <td>HARMFUL</td>\n",
       "      <td>may cause cancer</td>\n",
       "    </tr>\n",
       "    <tr>\n",
       "      <th>14</th>\n",
       "      <td>132</td>\n",
       "      <td>harmless</td>\n",
       "      <td></td>\n",
       "    </tr>\n",
       "  </tbody>\n",
       "</table>\n",
       "</div>"
      ],
      "text/plain": [
       "    E-number      Status           Comment\n",
       "0        100    harmless                  \n",
       "1        101    harmless                  \n",
       "2        102   DANGEROUS                  \n",
       "3        104    harmless                  \n",
       "4        105    harmless                  \n",
       "5        110   DANGEROUS                  \n",
       "6        111    harmless                  \n",
       "7        120   DANGEROUS                  \n",
       "8        121    harmless                  \n",
       "9        123   DANGEROUS                  \n",
       "10       124   DANGEROUS                  \n",
       "11       125  lab trials                  \n",
       "12       130    harmless                  \n",
       "13       131     HARMFUL  may cause cancer\n",
       "14       132    harmless                  "
      ]
     },
     "execution_count": 3,
     "metadata": {},
     "output_type": "execute_result"
    }
   ],
   "source": [
    "additives = pd.read_excel(\"data/Additives.xlsx\", sheet_name=\"E-numbers\", na_filter=False)\n",
    "additives.head(15)"
   ]
  },
  {
   "cell_type": "markdown",
   "metadata": {},
   "source": [
    "Opsioni `na_filter = False` udhëzon funksionin` read_excel` që të \"çaktivizojë inteligjencën artificiale\" dhe t'i lërë qelizat boshe boshe. Le të bëjmë një analizë të frekuencës bazuar në dëmin e konservuesve."
   ]
  },
  {
   "cell_type": "code",
   "execution_count": 4,
   "metadata": {},
   "outputs": [
    {
     "data": {
      "text/plain": [
       "HARMFUL       33\n",
       "harmless      29\n",
       "lab trials    10\n",
       "DANGEROUS      5\n",
       "Name: Status, dtype: int64"
      ]
     },
     "execution_count": 4,
     "metadata": {},
     "output_type": "execute_result"
    }
   ],
   "source": [
    "additives[\"Status\"].value_counts()"
   ]
  },
  {
   "cell_type": "markdown",
   "metadata": {},
   "source": [
    "Le të filtrojmë tani tabelën për të veçuar konservuesit që mund të shkaktojnë kancer:"
   ]
  },
  {
   "cell_type": "code",
   "execution_count": 5,
   "metadata": {},
   "outputs": [
    {
     "data": {
      "text/html": [
       "<div>\n",
       "<style scoped>\n",
       "    .dataframe tbody tr th:only-of-type {\n",
       "        vertical-align: middle;\n",
       "    }\n",
       "\n",
       "    .dataframe tbody tr th {\n",
       "        vertical-align: top;\n",
       "    }\n",
       "\n",
       "    .dataframe thead th {\n",
       "        text-align: right;\n",
       "    }\n",
       "</style>\n",
       "<table border=\"1\" class=\"dataframe\">\n",
       "  <thead>\n",
       "    <tr style=\"text-align: right;\">\n",
       "      <th></th>\n",
       "      <th>E-number</th>\n",
       "      <th>Status</th>\n",
       "      <th>Comment</th>\n",
       "    </tr>\n",
       "  </thead>\n",
       "  <tbody>\n",
       "    <tr>\n",
       "      <th>13</th>\n",
       "      <td>131</td>\n",
       "      <td>HARMFUL</td>\n",
       "      <td>may cause cancer</td>\n",
       "    </tr>\n",
       "    <tr>\n",
       "      <th>17</th>\n",
       "      <td>142</td>\n",
       "      <td>HARMFUL</td>\n",
       "      <td>may cause cancer</td>\n",
       "    </tr>\n",
       "    <tr>\n",
       "      <th>28</th>\n",
       "      <td>210</td>\n",
       "      <td>HARMFUL</td>\n",
       "      <td>may cause cancer</td>\n",
       "    </tr>\n",
       "    <tr>\n",
       "      <th>29</th>\n",
       "      <td>211</td>\n",
       "      <td>HARMFUL</td>\n",
       "      <td>may cause cancer</td>\n",
       "    </tr>\n",
       "    <tr>\n",
       "      <th>30</th>\n",
       "      <td>213</td>\n",
       "      <td>HARMFUL</td>\n",
       "      <td>may cause cancer</td>\n",
       "    </tr>\n",
       "    <tr>\n",
       "      <th>31</th>\n",
       "      <td>214</td>\n",
       "      <td>HARMFUL</td>\n",
       "      <td>may cause cancer</td>\n",
       "    </tr>\n",
       "    <tr>\n",
       "      <th>32</th>\n",
       "      <td>215</td>\n",
       "      <td>HARMFUL</td>\n",
       "      <td>may cause cancer</td>\n",
       "    </tr>\n",
       "    <tr>\n",
       "      <th>33</th>\n",
       "      <td>216</td>\n",
       "      <td>HARMFUL</td>\n",
       "      <td>may cause cancer</td>\n",
       "    </tr>\n",
       "    <tr>\n",
       "      <th>34</th>\n",
       "      <td>217</td>\n",
       "      <td>HARMFUL</td>\n",
       "      <td>may cause cancer</td>\n",
       "    </tr>\n",
       "    <tr>\n",
       "      <th>45</th>\n",
       "      <td>239</td>\n",
       "      <td>HARMFUL</td>\n",
       "      <td>may cause cancer</td>\n",
       "    </tr>\n",
       "    <tr>\n",
       "      <th>55</th>\n",
       "      <td>330</td>\n",
       "      <td>HARMFUL</td>\n",
       "      <td>may cause cancer</td>\n",
       "    </tr>\n",
       "  </tbody>\n",
       "</table>\n",
       "</div>"
      ],
      "text/plain": [
       "    E-number   Status           Comment\n",
       "13       131  HARMFUL  may cause cancer\n",
       "17       142  HARMFUL  may cause cancer\n",
       "28       210  HARMFUL  may cause cancer\n",
       "29       211  HARMFUL  may cause cancer\n",
       "30       213  HARMFUL  may cause cancer\n",
       "31       214  HARMFUL  may cause cancer\n",
       "32       215  HARMFUL  may cause cancer\n",
       "33       216  HARMFUL  may cause cancer\n",
       "34       217  HARMFUL  may cause cancer\n",
       "45       239  HARMFUL  may cause cancer\n",
       "55       330  HARMFUL  may cause cancer"
      ]
     },
     "execution_count": 5,
     "metadata": {},
     "output_type": "execute_result"
    }
   ],
   "source": [
    "additives[additives.Comment == \"may cause cancer\"]"
   ]
  },
  {
   "cell_type": "markdown",
   "metadata": {},
   "source": [
    "Më në fund, le të rendisim konservuesit që shënohen si DANGEROUS ose mund të shkaktojnë kancer. Për ta bërë këtë, ne duhet të kombinojmë dy kritere të filtrimit:\n",
    "\n",
    "    Comment == \"may cause cancer\"  ose  Status == \"DANGEROUS\" (ose të dyja)\n",
    "\n",
    "Kur duhet të kombinojmë dy kritere në mënyrë që një rresht të përfshihet në tabelën e filtruar nëse të paktën njëri prej kritereve është i plotësuar, ne përdorim lidhësin `|`:"
   ]
  },
  {
   "cell_type": "code",
   "execution_count": 6,
   "metadata": {},
   "outputs": [
    {
     "data": {
      "text/html": [
       "<div>\n",
       "<style scoped>\n",
       "    .dataframe tbody tr th:only-of-type {\n",
       "        vertical-align: middle;\n",
       "    }\n",
       "\n",
       "    .dataframe tbody tr th {\n",
       "        vertical-align: top;\n",
       "    }\n",
       "\n",
       "    .dataframe thead th {\n",
       "        text-align: right;\n",
       "    }\n",
       "</style>\n",
       "<table border=\"1\" class=\"dataframe\">\n",
       "  <thead>\n",
       "    <tr style=\"text-align: right;\">\n",
       "      <th></th>\n",
       "      <th>E-number</th>\n",
       "      <th>Status</th>\n",
       "      <th>Comment</th>\n",
       "    </tr>\n",
       "  </thead>\n",
       "  <tbody>\n",
       "    <tr>\n",
       "      <th>2</th>\n",
       "      <td>102</td>\n",
       "      <td>DANGEROUS</td>\n",
       "      <td></td>\n",
       "    </tr>\n",
       "    <tr>\n",
       "      <th>5</th>\n",
       "      <td>110</td>\n",
       "      <td>DANGEROUS</td>\n",
       "      <td></td>\n",
       "    </tr>\n",
       "    <tr>\n",
       "      <th>7</th>\n",
       "      <td>120</td>\n",
       "      <td>DANGEROUS</td>\n",
       "      <td></td>\n",
       "    </tr>\n",
       "    <tr>\n",
       "      <th>9</th>\n",
       "      <td>123</td>\n",
       "      <td>DANGEROUS</td>\n",
       "      <td></td>\n",
       "    </tr>\n",
       "    <tr>\n",
       "      <th>10</th>\n",
       "      <td>124</td>\n",
       "      <td>DANGEROUS</td>\n",
       "      <td></td>\n",
       "    </tr>\n",
       "    <tr>\n",
       "      <th>13</th>\n",
       "      <td>131</td>\n",
       "      <td>HARMFUL</td>\n",
       "      <td>may cause cancer</td>\n",
       "    </tr>\n",
       "    <tr>\n",
       "      <th>17</th>\n",
       "      <td>142</td>\n",
       "      <td>HARMFUL</td>\n",
       "      <td>may cause cancer</td>\n",
       "    </tr>\n",
       "    <tr>\n",
       "      <th>28</th>\n",
       "      <td>210</td>\n",
       "      <td>HARMFUL</td>\n",
       "      <td>may cause cancer</td>\n",
       "    </tr>\n",
       "    <tr>\n",
       "      <th>29</th>\n",
       "      <td>211</td>\n",
       "      <td>HARMFUL</td>\n",
       "      <td>may cause cancer</td>\n",
       "    </tr>\n",
       "    <tr>\n",
       "      <th>30</th>\n",
       "      <td>213</td>\n",
       "      <td>HARMFUL</td>\n",
       "      <td>may cause cancer</td>\n",
       "    </tr>\n",
       "    <tr>\n",
       "      <th>31</th>\n",
       "      <td>214</td>\n",
       "      <td>HARMFUL</td>\n",
       "      <td>may cause cancer</td>\n",
       "    </tr>\n",
       "    <tr>\n",
       "      <th>32</th>\n",
       "      <td>215</td>\n",
       "      <td>HARMFUL</td>\n",
       "      <td>may cause cancer</td>\n",
       "    </tr>\n",
       "    <tr>\n",
       "      <th>33</th>\n",
       "      <td>216</td>\n",
       "      <td>HARMFUL</td>\n",
       "      <td>may cause cancer</td>\n",
       "    </tr>\n",
       "    <tr>\n",
       "      <th>34</th>\n",
       "      <td>217</td>\n",
       "      <td>HARMFUL</td>\n",
       "      <td>may cause cancer</td>\n",
       "    </tr>\n",
       "    <tr>\n",
       "      <th>45</th>\n",
       "      <td>239</td>\n",
       "      <td>HARMFUL</td>\n",
       "      <td>may cause cancer</td>\n",
       "    </tr>\n",
       "    <tr>\n",
       "      <th>55</th>\n",
       "      <td>330</td>\n",
       "      <td>HARMFUL</td>\n",
       "      <td>may cause cancer</td>\n",
       "    </tr>\n",
       "  </tbody>\n",
       "</table>\n",
       "</div>"
      ],
      "text/plain": [
       "    E-number     Status           Comment\n",
       "2        102  DANGEROUS                  \n",
       "5        110  DANGEROUS                  \n",
       "7        120  DANGEROUS                  \n",
       "9        123  DANGEROUS                  \n",
       "10       124  DANGEROUS                  \n",
       "13       131    HARMFUL  may cause cancer\n",
       "17       142    HARMFUL  may cause cancer\n",
       "28       210    HARMFUL  may cause cancer\n",
       "29       211    HARMFUL  may cause cancer\n",
       "30       213    HARMFUL  may cause cancer\n",
       "31       214    HARMFUL  may cause cancer\n",
       "32       215    HARMFUL  may cause cancer\n",
       "33       216    HARMFUL  may cause cancer\n",
       "34       217    HARMFUL  may cause cancer\n",
       "45       239    HARMFUL  may cause cancer\n",
       "55       330    HARMFUL  may cause cancer"
      ]
     },
     "execution_count": 6,
     "metadata": {},
     "output_type": "execute_result"
    }
   ],
   "source": [
    "additives[(additives.Comment == \"may cause cancer\") | (additives.Status == \"DANGEROUS\")]"
   ]
  },
  {
   "cell_type": "markdown",
   "metadata": {},
   "source": [
    "## 10.3. Shkrimi i tabelave në skedarët Excel\n",
    "\n",
    "Çdo tabelë mund të shkruhet në një skedar Excel ashtu si kemi përdorur për t'i shkruar ato në skedarë _CSV_. Dallimi i vetëm është se në vend të kësaj, funksioni `to_csv` ne thërrasim funksionin` to_excel`. Për shembull, le të krijojmë një tabelë që përmban listën e konservuesve që janë etiketuar nga të rrezikshëm ose mund të shkaktojnë kancer:"
   ]
  },
  {
   "cell_type": "code",
   "execution_count": 7,
   "metadata": {},
   "outputs": [],
   "source": [
    "bad_additives = additives[(additives.Comment == \"may cause cancer\") | (additives.Status == \"DANGEROUS\")]"
   ]
  },
  {
   "cell_type": "markdown",
   "metadata": {},
   "source": [
    "dhe le të shkruajmë tabelën në një skedar Excel:"
   ]
  },
  {
   "cell_type": "code",
   "execution_count": 8,
   "metadata": {},
   "outputs": [],
   "source": [
    "bad_additives.to_excel(\"data/BadAdditives.xlsx\")"
   ]
  },
  {
   "cell_type": "markdown",
   "metadata": {},
   "source": [
    "Le të hedhim një vështrim në skedarin Excel që sapo kemi krijuar:\n",
    "\n",
    "![Excel file](pics/BadAdditives.jpg)\n",
    "\n",
    "Ne shohim që sistemi ka shkruar edhe kolonën e indeksit të tabelës, e cila në këtë rast është vetëm një listë e numrave të plotë të pakuptimtë. Për të hequr atë, ne do të shkruajmë përsëri tabelën, por kësaj radhe duke përdorur opsionin `index=False`:"
   ]
  },
  {
   "cell_type": "code",
   "execution_count": 9,
   "metadata": {},
   "outputs": [],
   "source": [
    "bad_additives.to_excel(\"data/BadAdditives.xlsx\", index=False)"
   ]
  },
  {
   "cell_type": "markdown",
   "metadata": {},
   "source": [
    "Skedari i ri duket si kjo:\n",
    "\n",
    "![Excel file](pics/BadAdditives2.jpg)\n",
    "\n",
    "Kjo është pikërisht ajo që kemi dashur."
   ]
  },
  {
   "cell_type": "markdown",
   "metadata": {},
   "source": [
    "## 10.4. Ushtrime"
   ]
  },
  {
   "cell_type": "markdown",
   "metadata": {},
   "source": [
    "**Ushtrimi 1.**  Skedari `data / CS201.xlsx` ka një përmbledhje të notave të një grupi studentësh në Science Science 201.\n",
    "të dhënat janë reale, kështu që tabela është anonimizuar.\n",
    "\n",
    "_(a)_ Vendosni këtë tabelë në një DataFrame dhe hidhini një sy rreshtave të para për të kuptuar strukturën e tabelës (\"Hnn\" qëndron për \"homework nn\", \"Cn\" qëndron për \"colloquim n\", \"WE\" qëndron për \"written part of the exam\" dhe \"OE\" qëndron për \"oral part of the exam\")."
   ]
  },
  {
   "cell_type": "markdown",
   "metadata": {},
   "source": [
    "_(b)_ Indekso tabelën me \"StudentID\"."
   ]
  },
  {
   "cell_type": "markdown",
   "metadata": {},
   "source": [
    "_(c)_ Llogaritni notën mesatare në secilën prej kolonive (kolonat \"C1\", \"C2\" dhe \"C3\")."
   ]
  },
  {
   "cell_type": "markdown",
   "metadata": {},
   "source": [
    "_(d)_ Shtoni një kolonë të re \"Avg\" dhe për secilin student llogarit notën mesatare dhe shkruajeni atë në qelizën përkatëse."
   ]
  },
  {
   "cell_type": "markdown",
   "metadata": {},
   "source": [
    "_(e)_ Shtoni një kolonë të re \"FinalGrade\" dhe për secilin student llogarit notën përfundimtare bazuar në notën mesatare duke përdorur funksionin e mëposhtëm:"
   ]
  },
  {
   "cell_type": "code",
   "execution_count": 10,
   "metadata": {},
   "outputs": [],
   "source": [
    "def final_grade(avg):\n",
    "    if avg >= 4.50:\n",
    "        return 5\n",
    "    elif avg >= 3.50:\n",
    "        return 4\n",
    "    elif avg >= 2.50:\n",
    "        return 3\n",
    "    elif avg >= 1.50:\n",
    "        return 2\n",
    "    else:\n",
    "        return 1"
   ]
  },
  {
   "cell_type": "markdown",
   "metadata": {},
   "source": [
    "_(f)_ Shkruajeni tabelën e re në skedarin Excel _data/CS201-FinalGrades.xlsx_"
   ]
  },
  {
   "cell_type": "markdown",
   "metadata": {},
   "source": [
    "**Ushtrimi 2.** _Eurostat_ është një agjenci zyrtare evropiane përgjegjëse për analizat statistikore të të dhënave të ndryshme që lidhen me zhvillimin e Bashkimit Evropian. Të gjitha të dhënat që mbledh Eurostat janë në dispozicion të publikut në lidhjen vijuese: https://ec.europa.eu/eurostat/data/database\n",
    "\n",
    "Skedari _data/EUProjPop.xlsx_ përmban parashikimin e popullsisë së secilit prej vendeve të BE-së në  2080. Tabela ka dy fletë pune: _Baseline_ që përmban popullsinë e parashikuar të vendeve të BE-së, dhe _Migration_ që përmban popullsinë e parashikuar të vendeve të BE-së në rast të një rritje të migrimit.\n",
    "\n",
    "_(a)_ Vendosni këto dy fletë pune në DataFrames (Baseline dhe Migration) dhe shfaqni disa rreshta të secilës tabelë për të kuptuar strukturën e tabelave."
   ]
  },
  {
   "cell_type": "markdown",
   "metadata": {},
   "source": [
    "_(b)_ Shtoni një rresht të ri \"EU\" në secilën prej tabelave dhe llogaritni popullsinë e parashikuar të të gjithë bashkimit për çdo vit."
   ]
  },
  {
   "cell_type": "markdown",
   "metadata": {},
   "source": [
    "_(c)_ Shtoni një rresht të ri në tabelën e Migration dhe llogaritni migracionin e parashikuar për secilin prej viteve (zbritni rreshtin EU në tabelën Baseline nga rreshti EU në tabelën e Migration)."
   ]
  },
  {
   "cell_type": "markdown",
   "metadata": {},
   "source": [
    "_(d)_ Vizualizoni migracionin e parashikuar me një grafik vijash."
   ]
  },
  {
   "cell_type": "markdown",
   "metadata": {},
   "source": [
    "_(e)_ Shtoni një rresht të ri \"EU-UK\" në tabelën Baseline dhe llogaritni popullsinë e parashikuar të BE-së pa UK."
   ]
  },
  {
   "cell_type": "markdown",
   "metadata": {},
   "source": [
    "_(f)_ Shkruani të dy DataFrames në _data/EU-UK.xlsx_ dhe _data/EU-Migration.xlsx_"
   ]
  },
  {
   "cell_type": "markdown",
   "metadata": {},
   "source": [
    "**Ushtrimi 3.** Skedari `data/Cricket.xlsx` përmban të dhënat për lojtarët më të mirë të kriketit në historinë e kriketit."
   ]
  },
  {
   "cell_type": "markdown",
   "metadata": {},
   "source": [
    "_(a)_ Vendoseni këtë tabelë në një _DataFrame_ dhe indeksojeni atë në kolonën \"Player\"."
   ]
  },
  {
   "cell_type": "markdown",
   "metadata": {},
   "source": [
    "_(b)_ Shtoni kolonën e re \"YP\" (_Years Played_) në tabelë dhe llogaritni numrin e viteve aktive për secilin lojtar (zbritni kolonën \"From\" nga kolona \"To\")."
   ]
  },
  {
   "cell_type": "markdown",
   "metadata": {},
   "source": [
    "_(c)_ Shtni një kolonë të te \"ARY\" (_Average Runs per Year_) në tabelë dhe për secilin lojtar llogarit numrin mesatar të drejtimeve në vit (ARY = Runs / YP)."
   ]
  },
  {
   "cell_type": "markdown",
   "metadata": {},
   "source": [
    "_(d)_ Renditni tabelën sipas \"ARY\" në rendin zbritës dhe shfaqni 25 rreshtat e parë të tabelës. Në cilin shekull luheshin në mënyrë aktive shumica e 25 lojtarëve më të mirë? Pse e mendoni këtë?"
   ]
  }
 ],
 "metadata": {
  "kernelspec": {
   "display_name": "Python 3",
   "language": "python",
   "name": "python3"
  },
  "language_info": {
   "codemirror_mode": {
    "name": "ipython",
    "version": 3
   },
   "file_extension": ".py",
   "mimetype": "text/x-python",
   "name": "python",
   "nbconvert_exporter": "python",
   "pygments_lexer": "ipython3",
   "version": "3.7.6"
  }
 },
 "nbformat": 4,
 "nbformat_minor": 2
}
