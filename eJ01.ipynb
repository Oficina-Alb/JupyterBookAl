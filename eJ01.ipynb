{
 "cells": [
  {
   "cell_type": "markdown",
   "metadata": {},
   "source": [
    "# 1. Hyrje në Jupyter\n",
    "\n",
    "Në këtë leksion ne demonstrojmë:\n",
    "1. çfarë është Jupyter, si të lundroni nëpër Jupyter notebook dhe si të përdorni Jupyter si të përdorni shprehjet Python;\n",
    "2. si të përdoren variablat në Jupyter dhe si të ekzekutohen programe të vogla Python; dhe\n",
    "3. cilat janë libraritë dhe si të përdoren funksionet e siguruara nga libraria standarde."
   ]
  },
  {
   "cell_type": "markdown",
   "metadata": {},
   "source": [
    "## 1.1. Jupyter bën aritmetikë\n",
    "\n",
    "Jupyter është një mjedis interaktiv në të cilin mund të futni disa tekst (ashtu si teksti që po lexoni tani), të vlerësoni shprehjet aritmetike, të ekzekutoni programe Python, të analizoni të dhënat, të paraqisni të dhëna si tabela dhe diagrame, dhe shumë, shumë më tepër.\n",
    "\n",
    "Secili  _notebook_ i Jupyter përbëhet nga _cells_, dhe secila qelizë mban disa tekst, një shprehje matematikore ose një program Python. Për momentin ne do të përmbahemi nga shpjegimi se si të futni tekst në qelizat e Jupyter notebook. Në vend të kësaj, ne do të përqendrohemi në evazimin e shprehjeve dhe drejtimin e programeve Python.\n",
    "\n",
    "Kur futni ndonjë shprehje ose një program Python në një qelizë, qeliza mund të _vlerësohet_ duke klikuar butonin **Run**:\n",
    "\n",
    "![Evaluating a cell](pics/JupyterMenuRun.jpg)\n",
    "\n",
    "ose shtypni [CTRL]+[ENTER]\n",
    "\n",
    "Për shembull:"
   ]
  },
  {
   "cell_type": "code",
   "execution_count": 1,
   "metadata": {},
   "outputs": [
    {
     "data": {
      "text/plain": [
       "57"
      ]
     },
     "execution_count": 1,
     "metadata": {},
     "output_type": "execute_result"
    }
   ],
   "source": [
    "3 * 19"
   ]
  },
  {
   "cell_type": "code",
   "execution_count": 2,
   "metadata": {},
   "outputs": [
    {
     "data": {
      "text/plain": [
       "882"
      ]
     },
     "execution_count": 2,
     "metadata": {},
     "output_type": "execute_result"
    }
   ],
   "source": [
    "(12 + 51) * 14"
   ]
  },
  {
   "cell_type": "code",
   "execution_count": 3,
   "metadata": {},
   "outputs": [
    {
     "data": {
      "text/plain": [
       "42535295865117307932921825928971026432"
      ]
     },
     "execution_count": 3,
     "metadata": {},
     "output_type": "execute_result"
    }
   ],
   "source": [
    "2**(5**3)"
   ]
  },
  {
   "cell_type": "markdown",
   "metadata": {},
   "source": [
    "Le të kujtojmë se dy asterisks në Python qëndrojnë për eksponim."
   ]
  },
  {
   "cell_type": "markdown",
   "metadata": {},
   "source": [
    "## 1.2. Jupyter can execute Python commands\n",
    "\n",
    "Ndonjëherë është e përshtatshme të emërtojmë vlera, veçanërisht në rast se po flasim për disa numra të komplikuar siç janë $ \\ pi $ ose disa shprehje të ndërlikuara. Ne më vonë mund t'u referohemi atyre vlerave duke shtypur thjesht ato vlera që u kemi dhënë. Për shembull, popullsia e vlerësuar e Tokës më 1 korrik 2019 është 7,714,576,923. Komanda e Python\n",
    "\n",
    "`WorldPopulation_2019 = 7714576923`\n",
    "\n",
    "do të prezantojë në sistem një variabël të re `WorldPopulation_2019` dhe do t'i caktojë asaj vlerën `7714576923`. Le të kujtojmë: emrat e variablave në Python _duhet_ të fillojnë me një shkronjë dhe mund të përmbajnë shkronja, shifra dhe simbolin e veçantë `_` ."
   ]
  },
  {
   "cell_type": "code",
   "execution_count": 4,
   "metadata": {},
   "outputs": [],
   "source": [
    "WorldPopulation_2019 = 7714576923"
   ]
  },
  {
   "cell_type": "markdown",
   "metadata": {},
   "source": [
    "Pas ekzekutimit të kësaj qelize nuk merrni asnjë përgjigje nga sistemi. Jupyter thjesht ka memorizuar se vlera e variablës `WorldPopulation_2019` është 7,714,576,923. Vlerësohet se 27.8% e popullsisë botërore jeton në qytete. Prandaj, ky shumë njerëz jetojnë në qytete:"
   ]
  },
  {
   "cell_type": "code",
   "execution_count": 5,
   "metadata": {},
   "outputs": [
    {
     "data": {
      "text/plain": [
       "2144652384.5939999"
      ]
     },
     "execution_count": 5,
     "metadata": {},
     "output_type": "execute_result"
    }
   ],
   "source": [
    "WorldPopulation_2019 * 27.8 / 100"
   ]
  },
  {
   "cell_type": "markdown",
   "metadata": {},
   "source": [
    "Le të kujtojmë: fjala _percent_ vjen nga Latinisht _pro centum_ që do të thotë \"në njëqind\". Kjo eshte pse\n",
    "\n",
    "$$\n",
    "  47\\% = \\frac{47}{100} = \\text{fourty-seven percent}.\n",
    "$$\n",
    "\n",
    "Për shembull, janë 856 nxënës në një shkollë dhe 25% e tyre janë studentë A. Sa studentë ka në shkollë?\n",
    "\n",
    "_Përgjigje._ Në shkollë janë 214 A nxënës sepse\n",
    "$$\n",
    "  856 \\cdot 25\\% = 856 \\cdot \\frac{25}{100} = 214.\n",
    "$$\n",
    "\n",
    "Ekzistojnë 326 nxënës B në të njëjtën shkollë. Sa përqind bën kjo?\n",
    "\n",
    "_Përgjigje._ Supozojmë se kjo bën $ x \\% $ të të gjithë nxënësve në shkollë. atëherë\n",
    "$$\n",
    "  856 \\cdot x\\% = 856 \\cdot \\frac{x}{100} = 326.\n",
    "$$\n",
    "Zgjidhja për $x$ jep:\n",
    "$$\n",
    "  x = \\frac{326 \\cdot 100}{856} \\approx 38.08.\n",
    "$$\n",
    "Prandaj, afërsisht $ 38.08 \\% $ e studentëve në shkollë janë studentë B.\n",
    "\n",
    "Le të zgjidhim në problem tjetër.\n",
    "\n",
    "**Ushtrim.** Maria dëshironte të blinte një palë pantallona, çmimi i të cilave ishte \\\\ 6.799.99 $, por mamaja e saj tha që kjo ishte shumë. Mary priti sezonin e shitjeve dhe herën tjetër që shkoi në dyqan pantallonat ishin me 25% ulje. Kjo e bindi Mamin e Marisë që t’i blejë pantallonat. Në arkëtar u befasuan këndshëm kur mësuan se ata kishin të drejtë për një zbritje shtesë prej 3% në pantallonat tashmë me zbritje. Cili ishte çmimi përfundimtar i pantallonave?"
   ]
  },
  {
   "cell_type": "code",
   "execution_count": 6,
   "metadata": {},
   "outputs": [
    {
     "data": {
      "text/plain": [
       "4946.992725"
      ]
     },
     "execution_count": 6,
     "metadata": {},
     "output_type": "execute_result"
    }
   ],
   "source": [
    "price = 6799.99\n",
    "discount1 = price * 25 / 100\n",
    "new_price = price - discount1\n",
    "discount2 = new_price * 3 / 100\n",
    "new_price - discount2"
   ]
  },
  {
   "cell_type": "markdown",
   "metadata": {},
   "source": [
    "Katër udhëzimet e para caktojnë disa vlera për disa variabla. Rreshti i fundit në qelizën e mësipërme përmban një shprehje. Meqenëse jemi në një mjedis _interaktiv_, shprehjet vlerësohen menjëherë dhe rezultati i drejtimit të qelizës është vlera e shprehjes së fundit në qelizë.\n",
    "\n",
    "Në vend të kësaj, ne mund të kishim shkruar kodin si ky:"
   ]
  },
  {
   "cell_type": "code",
   "execution_count": 7,
   "metadata": {},
   "outputs": [
    {
     "name": "stdout",
     "output_type": "stream",
     "text": [
      "The price after all the discounts is $4946.992725\n"
     ]
    }
   ],
   "source": [
    "price = 6799.99\n",
    "discount1 = price * 25 / 100\n",
    "new_price = price - discount1\n",
    "discount2 = new_price * 3 / 100\n",
    "print(\"The price after all the discounts is $\", new_price - discount2, sep=\"\")"
   ]
  },
  {
   "cell_type": "markdown",
   "metadata": {},
   "source": [
    "Këtë herë udhëzimi `print` _printon_ vlerat e shprehjes bashkë me tekst dekorativ ndërsa sistemi _nuk djeg asgjë si rezultat i ekzekutimit të qelizës_ (nuk ka përgjigje të sistemit në formën e` Out []: `).\n",
    "\n",
    "Ndërsa punojmë me mjedise interaktive është e përshtatshme të pranojmë mënyrën e mëposhtme: ne përdorim \"print\" vetëm kur duhet të shfaqim disa vlera menjëherë ose nëse dëshirojmë të japim një shpjegim, siç kemi bërë në shembullin e fundit."
   ]
  },
  {
   "cell_type": "markdown",
   "metadata": {},
   "source": [
    "## 1.3. Libraritë"
   ]
  },
  {
   "cell_type": "markdown",
   "metadata": {},
   "source": [
    "Në gjuhët moderne të programimit, dhe Python është një prej tyre, ne mund të bëjmë gjëra të jashtëzakonshme thjesht sepse të gjitha ato vijnë me një numër _funksionesh_ që dikush tashmë ka përgatitur për ne. Kjo e bën jetën tonë shumë më të lehtë: shumica e gjërave për të cilat përdoruesit mesatare (dhe shumë mesatarë) kanë nevojë për tanimë janë siguruar. Thjesht duhet t'i gjejmë ato!\n",
    "\n",
    "Meqenëse po flasim për mijëra funksione, fjalë për fjalë, të gjitha ato janë organizuar dhe paketuar në _librari të funksioneve_. Për shembull, libraria e funksioneve të matematikës, e quajtur \"math\", është befasuese. Aty mund të gjejmë funksione të tilla si `sqrt` (që llogarit rrënjën _katrore_),`sin` (që llogarit _sinuset_ e një këndi) dhe `cos` (që llogarit _cosinuset_ e një këndi), por edhe konstante siç janë` pi` (që është, natyrisht, një _përllogaritje_ e $ \\ pi $).\n",
    "\n",
    "Për shembull, llogarit perimetrin e një rrethi:"
   ]
  },
  {
   "cell_type": "code",
   "execution_count": 8,
   "metadata": {},
   "outputs": [
    {
     "name": "stdout",
     "output_type": "stream",
     "text": [
      "Enter radius: 10\n",
      "The circumference is: 62.83185307179586\n"
     ]
    }
   ],
   "source": [
    "from math import pi\n",
    "r = float(input(\"Enter radius: \"))\n",
    "obim = 2 * r * pi\n",
    "print(\"The circumference is:\", obim)"
   ]
  },
  {
   "cell_type": "markdown",
   "metadata": {},
   "source": [
    "Rreshti i parë në këtë shembull tregon se si të importoni një element të veçantë nga një librari:\n",
    "\n",
    "`from math import pi`\n",
    "\n",
    "udhëzon mjedisin që të gjejë librarinë `math` dhe të importojë` pi` prej saj.\n",
    "\n",
    "Këtu vjen një shembull tjetër. Ne do të shkruajmë një program Python i cili llogarit hipotenuzën $c$ të një trekëndëshi të drejtë duke pasur parasysh këmbët e tij një $a$ dhe $b$. Kujtoni se, nga Pythagoras, $c = \\ sqrt {a ^ 2 + b ^ 2}$.\n",
    "\n",
    "Ne kemi nevojë qartë për funksionin `sqrt` që llogarit rrënjën katrore të një numri. Është e vendosur në librarinë `math`, natyrisht."
   ]
  },
  {
   "cell_type": "code",
   "execution_count": 9,
   "metadata": {},
   "outputs": [
    {
     "name": "stdout",
     "output_type": "stream",
     "text": [
      "a = 6\n",
      "b = 8\n",
      "c = 10.0\n"
     ]
    }
   ],
   "source": [
    "from math import sqrt\n",
    "a = float(input(\"a = \"))\n",
    "b = float(input(\"b = \"))\n",
    "c = sqrt(a**2 + b**2)\n",
    "print(\"c =\", c)"
   ]
  },
  {
   "cell_type": "markdown",
   "metadata": {},
   "source": [
    "Dy shembujt e fundit ishin programe të plota kompjuterike: ne morëm hyrjen nga përdoruesi duke përdorur komandën `input`, përpunuam të dhënat dhe pastaj shfaqëm rezultatet duke përdorur `print`.\n",
    "\n",
    "Sidoqoftë, të punosh në mjedisin interaktiv na bën të mundur që të punojmë me copa kodi që mund t’i modifikojmë dhe ekzekutojmë sa herë që na pëlqen. Ne lehtë mund të _eksperimentojmë me të dhënat_, i cili është një pjesë e rëndësishme e të kuptuarit të _analizës së të dhënave moderne_. Në vend që të përdorim komandën `input`, ne u caktojmë vlerave variablave direkt në program, bëjmë analizën, ndryshojmë vlerat e caktuara në ndryshore, ekzekutojmë përsëri analizën dhe përsërisim procesin sa më shumë herë që është e nevojshme.\n",
    "\n",
    "Kjo mënyrë e përdorur për shembullin e fundit (llogaritja e hipotenuzës së një trekëndëshi të drejtë) jep kodin e mëposhtëm:"
   ]
  },
  {
   "cell_type": "code",
   "execution_count": 10,
   "metadata": {},
   "outputs": [
    {
     "data": {
      "text/plain": [
       "5.0"
      ]
     },
     "execution_count": 10,
     "metadata": {},
     "output_type": "execute_result"
    }
   ],
   "source": [
    "from math import sqrt\n",
    "a, b = 3, 4\n",
    "sqrt(a**2 + b**2)"
   ]
  },
  {
   "cell_type": "markdown",
   "metadata": {},
   "source": [
    "Assignment `a, b = 3, 4` means that `a` becomes 3, while `b` becomes 4. The output of running the cell is the value of the expression `sqrt(a**2 + b**2)`."
   ]
  },
  {
   "cell_type": "markdown",
   "metadata": {},
   "source": [
    "## 1.4. Ushtrime"
   ]
  },
  {
   "cell_type": "markdown",
   "metadata": {},
   "source": [
    "**Ushtrimi 1.** \n",
    "\n",
    "_(a)_ Çmimi i një libri ishte 24.60 EUR, dhe më pas libraria uli çmimet e të gjithë librave me 20%. Cili është çmimi i ri i librit?\n",
    "\n",
    "_ (b) _ Pas uljes së çmimit, çmimi i një libri tjetër në të njëjtën librari ishte 14.80 EUR. Cili ishte çmimi i librit para uljes?"
   ]
  },
  {
   "cell_type": "markdown",
   "metadata": {},
   "source": [
    "**Ushtrimi 2.** Vlerësohet se më 1 korrik 2019 popullsia e Kinës ishte 1,420,062,022. Është vlerësuar gjithashtu se popullsia e Kinës rritet me 0.35% në vit. Vlerësoni popullsinë e Kinës në vitin 2025 nën supozimin se këto parametra nuk do të ndryshojnë."
   ]
  },
  {
   "cell_type": "code",
   "execution_count": null,
   "metadata": {},
   "outputs": [],
   "source": []
  },
  {
   "cell_type": "markdown",
   "metadata": {},
   "source": [
    "**Ushtrimi 3.** Vlerësohet se më 1 korrik 2019 popullsia e Kinës ishte 1,420,062,022 dhe popullsia e Indisë ishte 1,368,737,513. Është vlerësuar gjithashtu se popullsia e Kinës rritet me 0.35% në vit, ndërsa popullsia e Indisë rritet me 1.08% në vit. Në sa vite do të arrijë India të kapërcejë Kinën?"
   ]
  },
  {
   "cell_type": "code",
   "execution_count": null,
   "metadata": {},
   "outputs": [],
   "source": []
  },
  {
   "cell_type": "markdown",
   "metadata": {},
   "source": [
    "**Ushtrimi 4.** Shkruani një program Python që llogarit fushën e një rrethi duke pasur parasysh rrezen e tij."
   ]
  },
  {
   "cell_type": "code",
   "execution_count": null,
   "metadata": {},
   "outputs": [],
   "source": []
  },
  {
   "cell_type": "markdown",
   "metadata": {},
   "source": [
    "**Ushtrimi 5.** Distanca midis pikave $A(x_1, y_1)$ dhe $B(x_2, y_2)$ të dhëna nga koordinatat e tyre në rrafshin Euklidian mund të llogariten duke përdorur formulën\n",
    "\n",
    "$$d(A, B) = \\sqrt{(x_1 - x_2)^2 + (y_1 - y_2)^2}$$\n",
    "\n",
    "Shkruani një program Python që lexon koordinatat e dy pikave dhe llogarit dhe pastaj shtyp distancën e tyre."
   ]
  },
  {
   "cell_type": "code",
   "execution_count": null,
   "metadata": {},
   "outputs": [],
   "source": []
  },
  {
   "cell_type": "markdown",
   "metadata": {},
   "source": [
    "**Ushtrimi 6.** _Faktoriali_ i një numri të plotë pozitiv $n$ është produkt i të gjithë numrave të plotë nga 1 në $n$:\n",
    "\n",
    "$$n! = 1 \\cdot 2 \\cdot 3 \\cdot \\dots \\cdot n.$$\n",
    "\n",
    "Llogaritni 200! dhe gjeni numrin e zerave me të cilat përfundon. (Ndihmë: libraria `math`  përmban funksionin `factorial` që mund të jetë ndihmël.)"
   ]
  },
  {
   "cell_type": "code",
   "execution_count": null,
   "metadata": {},
   "outputs": [],
   "source": []
  },
  {
   "cell_type": "markdown",
   "metadata": {},
   "source": [
    "**Ushtrimi 7.** Përdorimi i pjesës së kodit Python të dhënë në qelizën më poshtë gjeni të paktën një palë numra të tjerë pozitivë një $a$ dhe $b$ të tillë që hipotenuza e një trekëndëshi të drejtë me këmbë $a$ dhe $b$ është gjithashtu një numër i plotë. Në vend të `3, 4` shkruani një kombinim tjetër të numrave të plotë dhe ekzekutoni qelizën. Luaj me numra!"
   ]
  },
  {
   "cell_type": "code",
   "execution_count": null,
   "metadata": {},
   "outputs": [],
   "source": [
    "from math import sqrt\n",
    "a, b = 3, 4\n",
    "sqrt(a**2 + b**2)"
   ]
  }
 ],
 "metadata": {
  "kernelspec": {
   "display_name": "Python 3",
   "language": "python",
   "name": "python3"
  },
  "language_info": {
   "codemirror_mode": {
    "name": "ipython",
    "version": 3
   },
   "file_extension": ".py",
   "mimetype": "text/x-python",
   "name": "python",
   "nbconvert_exporter": "python",
   "pygments_lexer": "ipython3",
   "version": "3.7.6"
  }
 },
 "nbformat": 4,
 "nbformat_minor": 2
}
